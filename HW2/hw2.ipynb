{
 "cells": [
  {
   "cell_type": "code",
   "execution_count": 3,
   "metadata": {
    "collapsed": false
   },
   "outputs": [],
   "source": [
    "import pandas as pd\n",
    "import numpy as np\n",
    "\n",
    "from sklearn.linear_model import LogisticRegression\n",
    "from sklearn.metrics import log_loss\n",
    "from scipy.optimize import minimize\n",
    "from sklearn import clone\n",
    "from tqdm import tqdm\n",
    "import funcy"
   ]
  },
  {
   "cell_type": "code",
   "execution_count": 4,
   "metadata": {
    "collapsed": false
   },
   "outputs": [],
   "source": [
    "%load_ext autoreload\n",
    "%autoreload 2"
   ]
  },
  {
   "cell_type": "code",
   "execution_count": 6,
   "metadata": {
    "code_folding": [],
    "collapsed": false
   },
   "outputs": [
    {
     "name": "stderr",
     "output_type": "stream",
     "text": [
      "/Users/aciupan/anaconda/lib/python3.5/site-packages/matplotlib/font_manager.py:273: UserWarning: Matplotlib is building the font cache using fc-list. This may take a moment.\n",
      "  warnings.warn('Matplotlib is building the font cache using fc-list. This may take a moment.')\n",
      "/Users/aciupan/anaconda/lib/python3.5/site-packages/matplotlib/font_manager.py:273: UserWarning: Matplotlib is building the font cache using fc-list. This may take a moment.\n",
      "  warnings.warn('Matplotlib is building the font cache using fc-list. This may take a moment.')\n"
     ]
    }
   ],
   "source": [
    "from code.helpers import plotDecisionBoundary"
   ]
  },
  {
   "cell_type": "code",
   "execution_count": 7,
   "metadata": {
    "collapsed": false
   },
   "outputs": [
    {
     "ename": "SyntaxError",
     "evalue": "Missing parentheses in call to 'print' (logistic_regression.py, line 20)",
     "output_type": "error",
     "traceback": [
      "\u001b[0;36m  File \u001b[0;32m\"/Users/aciupan/ml_6867/HW2/code/logistic_regression.py\"\u001b[0;36m, line \u001b[0;32m20\u001b[0m\n\u001b[0;31m    print penalty\u001b[0m\n\u001b[0m                ^\u001b[0m\n\u001b[0;31mSyntaxError\u001b[0m\u001b[0;31m:\u001b[0m Missing parentheses in call to 'print'\n"
     ]
    }
   ],
   "source": [
    "from code.helpers import read_in, plotDecisionBoundary, make_fname\n",
    "from code.logistic_regression import nll, l1_reg, l2_reg, LogReg\n",
    "from code.gradient_descent import gradient_descent"
   ]
  },
  {
   "cell_type": "markdown",
   "metadata": {},
   "source": [
    "# 1. Logistic Regression\n",
    "1. Note: Sklearn uses C = 1/λ\n",
    "2. See `intercept_scaling` in sklearn.\n",
    "3. When you report weights, include `W0`"
   ]
  },
  {
   "cell_type": "code",
   "execution_count": 18,
   "metadata": {
    "collapsed": false
   },
   "outputs": [
    {
     "data": {
      "text/latex": [
       "$ NLL(w, w0) =  \\sum(log (1 + exp  (−y(i)(wx(i) + w0))))$"
      ],
      "text/plain": [
       "<IPython.core.display.Latex object>"
      ]
     },
     "metadata": {},
     "output_type": "display_data"
    }
   ],
   "source": [
    "%%latex\n",
    "$ NLL(w, w0) =  \\sum(log (1 + exp  (−y(i)(wx(i) + w0))))$"
   ]
  },
  {
   "cell_type": "markdown",
   "metadata": {},
   "source": [
    "### TODO: \n",
    "2. Why different coeffs than sklearn?\n",
    "3. Compare L=1 to L=0\n",
    "4. Results tables\n",
    "5. Decision boundaries?\n"
   ]
  },
  {
   "cell_type": "code",
   "execution_count": 57,
   "metadata": {
    "collapsed": true
   },
   "outputs": [],
   "source": [
    "X,y = read_in(data=3)"
   ]
  },
  {
   "cell_type": "code",
   "execution_count": 64,
   "metadata": {
    "collapsed": false
   },
   "outputs": [],
   "source": [
    "#clf = LogReg(reg_func=l2_reg, L=1.).fit(X, y)"
   ]
  },
  {
   "cell_type": "code",
   "execution_count": 59,
   "metadata": {
    "collapsed": false
   },
   "outputs": [
    {
     "name": "stdout",
     "output_type": "stream",
     "text": [
      "0.0\n"
     ]
    },
    {
     "data": {
      "text/plain": [
       "160.48492780042571"
      ]
     },
     "execution_count": 59,
     "metadata": {},
     "output_type": "execute_result"
    }
   ],
   "source": [
    "nll(X, y, clf.coef_)"
   ]
  },
  {
   "cell_type": "code",
   "execution_count": 60,
   "metadata": {
    "collapsed": false
   },
   "outputs": [
    {
     "data": {
      "text/plain": [
       "array([ 0.97,  0.95,  0.15,  0.06,  0.15,  0.94,  0.17,  0.78,  0.07,\n",
       "        0.03,  0.16,  0.27,  0.11,  0.33,  0.91,  0.94,  0.06,  0.23,\n",
       "        0.88,  0.72,  0.97,  0.99,  0.17,  0.95,  0.07,  0.1 ,  0.03,\n",
       "        0.98,  0.07,  0.61,  0.09,  0.6 ,  0.05,  0.31,  0.08,  0.85,\n",
       "        0.13,  0.05,  0.93,  0.1 ,  0.21,  0.13,  0.99,  0.05,  0.09,\n",
       "        0.79,  0.82,  0.06,  0.09,  0.05,  0.1 ,  0.02,  0.07,  0.02,\n",
       "        0.19,  0.96,  0.69,  0.11,  0.9 ,  0.36,  0.96,  0.93,  0.62,\n",
       "        0.21,  0.07,  0.1 ,  0.07,  0.91,  0.87,  0.31,  0.05,  0.75,\n",
       "        0.95,  0.04,  0.95,  0.05,  0.53,  0.11,  0.98,  0.06,  0.35,\n",
       "        0.08,  0.68,  0.92,  0.03,  0.97,  0.98,  0.06,  0.98,  0.09,\n",
       "        0.17,  0.12,  0.83,  0.03,  0.08,  0.18,  0.66,  0.87,  0.08,\n",
       "        0.27,  0.05,  0.13,  0.08,  0.08,  0.83,  0.15,  0.98,  0.81,\n",
       "        0.88,  0.15,  0.8 ,  0.09,  0.98,  0.07,  0.98,  0.95,  0.2 ,\n",
       "        0.04,  0.93,  0.97,  0.97,  0.12,  0.07,  0.13,  0.09,  0.03,\n",
       "        0.86,  0.16,  0.96,  0.99,  0.1 ,  0.07,  0.1 ,  0.08,  0.95,\n",
       "        0.81,  0.03,  0.27,  0.14,  0.04,  0.99,  0.04,  0.9 ,  0.06,\n",
       "        1.  ,  0.96,  0.41,  0.94,  0.99,  0.96,  0.86,  0.86,  0.98,\n",
       "        0.97,  0.99,  0.92,  0.72,  0.92,  0.99,  0.08,  0.96,  0.72,\n",
       "        0.69,  0.11,  0.42,  0.95,  0.05,  0.98,  0.08,  0.17,  0.16,\n",
       "        0.94,  0.05,  0.29,  0.22,  0.13,  0.97,  0.78,  0.05,  0.05,\n",
       "        0.97,  0.99,  0.77,  0.1 ,  0.07,  0.25,  0.05,  0.72,  0.84,\n",
       "        0.06,  0.12,  0.07,  0.1 ,  0.41,  0.83,  0.08,  0.91,  0.04,\n",
       "        0.9 ,  0.06])"
      ]
     },
     "execution_count": 60,
     "metadata": {},
     "output_type": "execute_result"
    }
   ],
   "source": [
    "clf.predict_proba(X).round(2)"
   ]
  },
  {
   "cell_type": "code",
   "execution_count": 61,
   "metadata": {
    "collapsed": false
   },
   "outputs": [
    {
     "name": "stdout",
     "output_type": "stream",
     "text": [
      "0.0\n"
     ]
    },
    {
     "data": {
      "text/plain": [
       "168.02852082848531"
      ]
     },
     "execution_count": 61,
     "metadata": {},
     "output_type": "execute_result"
    }
   ],
   "source": [
    "nll(X,y, np.squeeze(log.coef_))"
   ]
  },
  {
   "cell_type": "code",
   "execution_count": 53,
   "metadata": {
    "collapsed": false
   },
   "outputs": [
    {
     "data": {
      "text/plain": [
       "array([[-0.03374817,  7.15227365]])"
      ]
     },
     "execution_count": 53,
     "metadata": {},
     "output_type": "execute_result"
    }
   ],
   "source": [
    "log.coef_"
   ]
  },
  {
   "cell_type": "code",
   "execution_count": null,
   "metadata": {
    "collapsed": true
   },
   "outputs": [],
   "source": [
    "log.predict_proba()"
   ]
  },
  {
   "cell_type": "code",
   "execution_count": 39,
   "metadata": {
    "collapsed": false
   },
   "outputs": [
    {
     "data": {
      "text/plain": [
       "(200, 2)"
      ]
     },
     "execution_count": 39,
     "metadata": {},
     "output_type": "execute_result"
    }
   ],
   "source": [
    "X.shape"
   ]
  },
  {
   "cell_type": "code",
   "execution_count": 24,
   "metadata": {
    "collapsed": false
   },
   "outputs": [],
   "source": [
    "#clf.optim_"
   ]
  },
  {
   "cell_type": "code",
   "execution_count": 25,
   "metadata": {
    "collapsed": false
   },
   "outputs": [],
   "source": [
    "probas = clf.predict_proba(X)"
   ]
  },
  {
   "cell_type": "code",
   "execution_count": 29,
   "metadata": {
    "collapsed": false
   },
   "outputs": [
    {
     "data": {
      "text/plain": [
       "1.0"
      ]
     },
     "execution_count": 29,
     "metadata": {},
     "output_type": "execute_result"
    }
   ],
   "source": [
    "clf.score(X, y)"
   ]
  },
  {
   "cell_type": "code",
   "execution_count": 47,
   "metadata": {
    "collapsed": false
   },
   "outputs": [],
   "source": [
    "log = LogisticRegression( C=1e6).fit(X, y)"
   ]
  },
  {
   "cell_type": "code",
   "execution_count": 36,
   "metadata": {
    "collapsed": true
   },
   "outputs": [],
   "source": [
    "LogisticRegression?"
   ]
  },
  {
   "cell_type": "code",
   "execution_count": 48,
   "metadata": {
    "collapsed": false
   },
   "outputs": [
    {
     "data": {
      "text/plain": [
       "array([[-0.03374817,  7.15227365]])"
      ]
     },
     "execution_count": 48,
     "metadata": {},
     "output_type": "execute_result"
    }
   ],
   "source": [
    "log.coef_"
   ]
  },
  {
   "cell_type": "code",
   "execution_count": 49,
   "metadata": {
    "collapsed": false
   },
   "outputs": [
    {
     "data": {
      "text/plain": [
       "0.97499999999999998"
      ]
     },
     "execution_count": 49,
     "metadata": {},
     "output_type": "execute_result"
    }
   ],
   "source": [
    "log.score(X, y)"
   ]
  },
  {
   "cell_type": "code",
   "execution_count": null,
   "metadata": {
    "collapsed": true
   },
   "outputs": [],
   "source": [
    "log.pr"
   ]
  },
  {
   "cell_type": "code",
   "execution_count": 15,
   "metadata": {
    "collapsed": false
   },
   "outputs": [
    {
     "data": {
      "text/plain": [
       "132.88539681960287"
      ]
     },
     "execution_count": 15,
     "metadata": {},
     "output_type": "execute_result"
    }
   ],
   "source": [
    "clf.optim_"
   ]
  },
  {
   "cell_type": "markdown",
   "metadata": {},
   "source": [
    "yhat = clf.predict(X)\n",
    "(np.sign(yhat) == y).mean()"
   ]
  },
  {
   "cell_type": "code",
   "execution_count": 29,
   "metadata": {
    "collapsed": false
   },
   "outputs": [
    {
     "data": {
      "text/plain": [
       "0.94499999999999995"
      ]
     },
     "execution_count": 29,
     "metadata": {},
     "output_type": "execute_result"
    }
   ],
   "source": []
  },
  {
   "cell_type": "code",
   "execution_count": null,
   "metadata": {
    "collapsed": false
   },
   "outputs": [],
   "source": [
    "clf = LogisticRegression(fit_intercept=True, C=1e9).fit(X, Y)\n",
    "yhat = clf.predict(X)\n",
    "cof = np.squeeze(clf.coef_)\n",
    "cof"
   ]
  },
  {
   "cell_type": "code",
   "execution_count": 52,
   "metadata": {
    "collapsed": false
   },
   "outputs": [],
   "source": [
    "l1_log = LogisticRegression(C=.01, penalty='l1')\n",
    "l2_log = LogisticRegression(C=.01, penalty='l2')\n",
    "lr_no_reg = LogisticRegression(C=1e12, penalty='l2')\n",
    "#.fit(X,Y).coef_"
   ]
  },
  {
   "cell_type": "code",
   "execution_count": 53,
   "metadata": {
    "collapsed": true
   },
   "outputs": [],
   "source": [
    "from sklearn.linear_model import LogisticRegressionCV, LogisticRegression"
   ]
  },
  {
   "cell_type": "code",
   "execution_count": 54,
   "metadata": {
    "code_folding": [],
    "collapsed": false
   },
   "outputs": [],
   "source": [
    "def all_stats():\n",
    "    res ={}\n",
    "    for d in [1,2,3,4]:\n",
    "        for C in [.0001, .001, .01,1, 1e12]:\n",
    "            for pen in [ 'l2']:\n",
    "                clf = LogisticRegression(C=C, penalty=pen)\n",
    "                #clf = LogisticRegressionCV(penalty=pen)\n",
    "\n",
    "                res[(d,C, pen)] = get_stats(d, clf)\n",
    "    return res\n",
    "\n",
    "\n",
    "def get_stats(data, clf):\n",
    "    X, Y = read_in(data=data, suffix='train')\n",
    "    \n",
    "    Xt, Yt = read_in(data=data, suffix='test')\n",
    "    Xv, Yv = read_in(data=data, suffix='validate')\n",
    "    clf.fit(X, Y)\n",
    "    return pd.Series(dict(te_score = clf.score(Xt, Yt),\n",
    "                          tr_score = clf.score(X, Y),\n",
    "                          val_score = clf.score(Xv, Yv),\n",
    "                          weight_norm  = np.sum(np.abs(clf.coef_)),\n",
    "                          clf=clf))"
   ]
  },
  {
   "cell_type": "code",
   "execution_count": 55,
   "metadata": {
    "collapsed": false
   },
   "outputs": [],
   "source": [
    "res  =all_stats()"
   ]
  },
  {
   "cell_type": "code",
   "execution_count": 56,
   "metadata": {
    "collapsed": false
   },
   "outputs": [],
   "source": [
    "clf = pd.DataFrame(res).rename_axis(['data', 'C', 'Penalty'], 1).loc['clf'].iloc[0]#.get_params()#T[['tr_score', 'oos_score', 'weight_norm']].round(2)"
   ]
  },
  {
   "cell_type": "code",
   "execution_count": 58,
   "metadata": {
    "collapsed": false
   },
   "outputs": [
    {
     "data": {
      "text/plain": [
       "LogisticRegression(C=0.0001, class_weight=None, dual=False,\n",
       "          fit_intercept=True, intercept_scaling=1, max_iter=100,\n",
       "          multi_class='ovr', n_jobs=1, penalty='l2', random_state=None,\n",
       "          solver='liblinear', tol=0.0001, verbose=0, warm_start=False)"
      ]
     },
     "execution_count": 58,
     "metadata": {},
     "output_type": "execute_result"
    }
   ],
   "source": [
    "tab1 = pd.DataFrame(res).rename_axis(['data', 'C', 'Penalty'], 1)\n",
    "    \n",
    "tab1.loc['clf'].iloc[0]#.get_params()#T[['tr_score', 'oos_score', 'weight_norm']].round(2)"
   ]
  },
  {
   "cell_type": "code",
   "execution_count": 61,
   "metadata": {
    "collapsed": false
   },
   "outputs": [
    {
     "data": {
      "text/html": [
       "<div>\n",
       "<table border=\"1\" class=\"dataframe\">\n",
       "  <thead>\n",
       "    <tr>\n",
       "      <th>data</th>\n",
       "      <th colspan=\"5\" halign=\"left\">1</th>\n",
       "      <th colspan=\"5\" halign=\"left\">2</th>\n",
       "      <th colspan=\"5\" halign=\"left\">3</th>\n",
       "      <th colspan=\"5\" halign=\"left\">4</th>\n",
       "    </tr>\n",
       "    <tr>\n",
       "      <th>C</th>\n",
       "      <th>1.000000e-04</th>\n",
       "      <th>1.000000e-03</th>\n",
       "      <th>1.000000e-02</th>\n",
       "      <th>1.000000e+00</th>\n",
       "      <th>1.000000e+12</th>\n",
       "      <th>1.000000e-04</th>\n",
       "      <th>1.000000e-03</th>\n",
       "      <th>1.000000e-02</th>\n",
       "      <th>1.000000e+00</th>\n",
       "      <th>1.000000e+12</th>\n",
       "      <th>1.000000e-04</th>\n",
       "      <th>1.000000e-03</th>\n",
       "      <th>1.000000e-02</th>\n",
       "      <th>1.000000e+00</th>\n",
       "      <th>1.000000e+12</th>\n",
       "      <th>1.000000e-04</th>\n",
       "      <th>1.000000e-03</th>\n",
       "      <th>1.000000e-02</th>\n",
       "      <th>1.000000e+00</th>\n",
       "      <th>1.000000e+12</th>\n",
       "    </tr>\n",
       "    <tr>\n",
       "      <th>Penalty</th>\n",
       "      <th>l2</th>\n",
       "      <th>l2</th>\n",
       "      <th>l2</th>\n",
       "      <th>l2</th>\n",
       "      <th>l2</th>\n",
       "      <th>l2</th>\n",
       "      <th>l2</th>\n",
       "      <th>l2</th>\n",
       "      <th>l2</th>\n",
       "      <th>l2</th>\n",
       "      <th>l2</th>\n",
       "      <th>l2</th>\n",
       "      <th>l2</th>\n",
       "      <th>l2</th>\n",
       "      <th>l2</th>\n",
       "      <th>l2</th>\n",
       "      <th>l2</th>\n",
       "      <th>l2</th>\n",
       "      <th>l2</th>\n",
       "      <th>l2</th>\n",
       "    </tr>\n",
       "  </thead>\n",
       "  <tbody>\n",
       "    <tr>\n",
       "      <th>te_score</th>\n",
       "      <td>0.995</td>\n",
       "      <td>0.995</td>\n",
       "      <td>0.995</td>\n",
       "      <td>1</td>\n",
       "      <td>1</td>\n",
       "      <td>0.805</td>\n",
       "      <td>0.805</td>\n",
       "      <td>0.81</td>\n",
       "      <td>0.805</td>\n",
       "      <td>0.805</td>\n",
       "      <td>0.96</td>\n",
       "      <td>0.96</td>\n",
       "      <td>0.96</td>\n",
       "      <td>0.97</td>\n",
       "      <td>0.95</td>\n",
       "      <td>0.5025</td>\n",
       "      <td>0.505</td>\n",
       "      <td>0.5</td>\n",
       "      <td>0.4975</td>\n",
       "      <td>0.4975</td>\n",
       "    </tr>\n",
       "    <tr>\n",
       "      <th>tr_score</th>\n",
       "      <td>0.99</td>\n",
       "      <td>0.99</td>\n",
       "      <td>0.9925</td>\n",
       "      <td>1</td>\n",
       "      <td>1</td>\n",
       "      <td>0.82</td>\n",
       "      <td>0.8175</td>\n",
       "      <td>0.8225</td>\n",
       "      <td>0.8325</td>\n",
       "      <td>0.83</td>\n",
       "      <td>0.96</td>\n",
       "      <td>0.96</td>\n",
       "      <td>0.96</td>\n",
       "      <td>0.9775</td>\n",
       "      <td>0.9875</td>\n",
       "      <td>0.52</td>\n",
       "      <td>0.5175</td>\n",
       "      <td>0.515</td>\n",
       "      <td>0.515</td>\n",
       "      <td>0.515</td>\n",
       "    </tr>\n",
       "    <tr>\n",
       "      <th>val_score</th>\n",
       "      <td>1</td>\n",
       "      <td>1</td>\n",
       "      <td>1</td>\n",
       "      <td>1</td>\n",
       "      <td>1</td>\n",
       "      <td>0.82</td>\n",
       "      <td>0.82</td>\n",
       "      <td>0.815</td>\n",
       "      <td>0.825</td>\n",
       "      <td>0.825</td>\n",
       "      <td>0.94</td>\n",
       "      <td>0.94</td>\n",
       "      <td>0.94</td>\n",
       "      <td>0.97</td>\n",
       "      <td>0.965</td>\n",
       "      <td>0.5075</td>\n",
       "      <td>0.505</td>\n",
       "      <td>0.4975</td>\n",
       "      <td>0.4925</td>\n",
       "      <td>0.4925</td>\n",
       "    </tr>\n",
       "    <tr>\n",
       "      <th>weight_norm</th>\n",
       "      <td>0.0373217</td>\n",
       "      <td>0.279099</td>\n",
       "      <td>0.97279</td>\n",
       "      <td>3.55085</td>\n",
       "      <td>12.951</td>\n",
       "      <td>0.0184705</td>\n",
       "      <td>0.15842</td>\n",
       "      <td>0.719829</td>\n",
       "      <td>1.76958</td>\n",
       "      <td>1.8272</td>\n",
       "      <td>0.0210195</td>\n",
       "      <td>0.188839</td>\n",
       "      <td>1.00797</td>\n",
       "      <td>5.07972</td>\n",
       "      <td>14.0761</td>\n",
       "      <td>0.00224741</td>\n",
       "      <td>0.0158508</td>\n",
       "      <td>0.0401831</td>\n",
       "      <td>0.0483625</td>\n",
       "      <td>0.0484622</td>\n",
       "    </tr>\n",
       "  </tbody>\n",
       "</table>\n",
       "</div>"
      ],
      "text/plain": [
       "data                   1                                                      \\\n",
       "C           1.000000e-04 1.000000e-03 1.000000e-02 1.000000e+00 1.000000e+12   \n",
       "Penalty               l2           l2           l2           l2           l2   \n",
       "te_score           0.995        0.995        0.995            1            1   \n",
       "tr_score            0.99         0.99       0.9925            1            1   \n",
       "val_score              1            1            1            1            1   \n",
       "weight_norm    0.0373217     0.279099      0.97279      3.55085       12.951   \n",
       "\n",
       "data                   2                                                      \\\n",
       "C           1.000000e-04 1.000000e-03 1.000000e-02 1.000000e+00 1.000000e+12   \n",
       "Penalty               l2           l2           l2           l2           l2   \n",
       "te_score           0.805        0.805         0.81        0.805        0.805   \n",
       "tr_score            0.82       0.8175       0.8225       0.8325         0.83   \n",
       "val_score           0.82         0.82        0.815        0.825        0.825   \n",
       "weight_norm    0.0184705      0.15842     0.719829      1.76958       1.8272   \n",
       "\n",
       "data                   3                                                      \\\n",
       "C           1.000000e-04 1.000000e-03 1.000000e-02 1.000000e+00 1.000000e+12   \n",
       "Penalty               l2           l2           l2           l2           l2   \n",
       "te_score            0.96         0.96         0.96         0.97         0.95   \n",
       "tr_score            0.96         0.96         0.96       0.9775       0.9875   \n",
       "val_score           0.94         0.94         0.94         0.97        0.965   \n",
       "weight_norm    0.0210195     0.188839      1.00797      5.07972      14.0761   \n",
       "\n",
       "data                   4                                                      \n",
       "C           1.000000e-04 1.000000e-03 1.000000e-02 1.000000e+00 1.000000e+12  \n",
       "Penalty               l2           l2           l2           l2           l2  \n",
       "te_score          0.5025        0.505          0.5       0.4975       0.4975  \n",
       "tr_score            0.52       0.5175        0.515        0.515        0.515  \n",
       "val_score         0.5075        0.505       0.4975       0.4925       0.4925  \n",
       "weight_norm   0.00224741    0.0158508    0.0401831    0.0483625    0.0484622  "
      ]
     },
     "execution_count": 61,
     "metadata": {},
     "output_type": "execute_result"
    }
   ],
   "source": [
    "tab1.drop('clf')"
   ]
  },
  {
   "cell_type": "code",
   "execution_count": null,
   "metadata": {
    "collapsed": true
   },
   "outputs": [],
   "source": [
    "test = np.loadtxt('hw2_resources/data/data'+name+'_test.csv')\n",
    "Xt = test[:,0:2]\n",
    "onz = np.ones(Xt.shape[0])\n",
    "Xt = np.hstack([Xt, onz.reshape(Xt.shape[0],1)])\n",
    "Yt= np.ravel(test[:,2:3])\n"
   ]
  },
  {
   "cell_type": "code",
   "execution_count": 5,
   "metadata": {
    "collapsed": false
   },
   "outputs": [
    {
     "ename": "NameError",
     "evalue": "name 'Xv' is not defined",
     "output_type": "error",
     "traceback": [
      "\u001b[0;31m--------------------------------------------------------------------\u001b[0m",
      "\u001b[0;31mNameError\u001b[0m                          Traceback (most recent call last)",
      "\u001b[0;32m<ipython-input-5-32fefad02935>\u001b[0m in \u001b[0;36m<module>\u001b[0;34m()\u001b[0m\n\u001b[1;32m     13\u001b[0m     \u001b[0;32mreturn\u001b[0m  \u001b[0mloss\u001b[0m \u001b[0;34m+\u001b[0m \u001b[0mreg_cost\u001b[0m\u001b[0;34m\u001b[0m\u001b[0m\n\u001b[1;32m     14\u001b[0m \u001b[0;34m\u001b[0m\u001b[0m\n\u001b[0;32m---> 15\u001b[0;31m \u001b[0;32mdef\u001b[0m \u001b[0merror\u001b[0m\u001b[0;34m(\u001b[0m\u001b[0mw\u001b[0m\u001b[0;34m,\u001b[0m \u001b[0mX\u001b[0m\u001b[0;34m=\u001b[0m\u001b[0mXv\u001b[0m\u001b[0;34m,\u001b[0m \u001b[0mY\u001b[0m\u001b[0;34m=\u001b[0m\u001b[0mYv\u001b[0m\u001b[0;34m)\u001b[0m\u001b[0;34m:\u001b[0m\u001b[0;34m\u001b[0m\u001b[0m\n\u001b[0m\u001b[1;32m     16\u001b[0m     \u001b[0myhat\u001b[0m  \u001b[0;34m=\u001b[0m \u001b[0mX\u001b[0m\u001b[0;34m.\u001b[0m\u001b[0mdot\u001b[0m\u001b[0;34m(\u001b[0m\u001b[0mw\u001b[0m\u001b[0;34m)\u001b[0m \u001b[0;34m>\u001b[0m  \u001b[0;36m0.\u001b[0m\u001b[0;34m\u001b[0m\u001b[0m\n\u001b[1;32m     17\u001b[0m     \u001b[0;32mreturn\u001b[0m \u001b[0;36m1.\u001b[0m\u001b[0;34m-\u001b[0m \u001b[0mnp\u001b[0m\u001b[0;34m.\u001b[0m\u001b[0mmean\u001b[0m\u001b[0;34m(\u001b[0m\u001b[0myhat\u001b[0m \u001b[0;34m==\u001b[0m \u001b[0;34m(\u001b[0m\u001b[0mY\u001b[0m \u001b[0;34m>\u001b[0m \u001b[0;36m0.\u001b[0m\u001b[0;34m)\u001b[0m\u001b[0;34m)\u001b[0m\u001b[0;34m\u001b[0m\u001b[0m\n",
      "\u001b[0;31mNameError\u001b[0m: name 'Xv' is not defined"
     ]
    }
   ],
   "source": [
    "kk"
   ]
  },
  {
   "cell_type": "code",
   "execution_count": null,
   "metadata": {
    "collapsed": true
   },
   "outputs": [],
   "source": []
  },
  {
   "cell_type": "code",
   "execution_count": null,
   "metadata": {
    "collapsed": false
   },
   "outputs": [],
   "source": [
    "\n",
    "val_error(w_no)"
   ]
  },
  {
   "cell_type": "code",
   "execution_count": null,
   "metadata": {
    "collapsed": false
   },
   "outputs": [],
   "source": [
    "test_error(w_no)"
   ]
  },
  {
   "cell_type": "code",
   "execution_count": null,
   "metadata": {
    "collapsed": true
   },
   "outputs": [],
   "source": []
  },
  {
   "cell_type": "code",
   "execution_count": null,
   "metadata": {
    "collapsed": false
   },
   "outputs": [],
   "source": [
    "wL, pL = _gradient_descent(funcy.partial(nll, L=1.), init_weights=np.copy(w), lr=.01)"
   ]
  },
  {
   "cell_type": "code",
   "execution_count": null,
   "metadata": {
    "collapsed": false
   },
   "outputs": [],
   "source": [
    "val_error(wL)"
   ]
  },
  {
   "cell_type": "code",
   "execution_count": null,
   "metadata": {
    "collapsed": false
   },
   "outputs": [],
   "source": [
    "val_error(wL1)"
   ]
  },
  {
   "cell_type": "code",
   "execution_count": null,
   "metadata": {
    "collapsed": false
   },
   "outputs": [],
   "source": [
    "wL1, pL1 = _gradient_descent(funcy.partial(nll, L=1., reg_func=l1_reg),\n",
    "                             init_weights=np.copy(w), lr=.01)"
   ]
  },
  {
   "cell_type": "code",
   "execution_count": null,
   "metadata": {
    "collapsed": false
   },
   "outputs": [],
   "source": [
    "val_error(wL1)"
   ]
  },
  {
   "cell_type": "code",
   "execution_count": null,
   "metadata": {
    "collapsed": true
   },
   "outputs": [],
   "source": []
  },
  {
   "cell_type": "code",
   "execution_count": null,
   "metadata": {
    "collapsed": false
   },
   "outputs": [],
   "source": [
    "ax = paths[['w_0', 'w_1', 'w_2']].plot()\n",
    "ax.set_title('No Regularization')"
   ]
  },
  {
   "cell_type": "code",
   "execution_count": null,
   "metadata": {
    "collapsed": false
   },
   "outputs": [],
   "source": [
    "np.copy(w) - 1"
   ]
  },
  {
   "cell_type": "code",
   "execution_count": null,
   "metadata": {
    "collapsed": false
   },
   "outputs": [],
   "source": [
    "ax = pL[['w_0', 'w_1', 'w_2']].plot()\n",
    "ax.set_title('L2 Loss')"
   ]
  },
  {
   "cell_type": "code",
   "execution_count": null,
   "metadata": {
    "collapsed": false
   },
   "outputs": [],
   "source": [
    "ax = pL1[['w_0', 'w_1', 'w_2']].plot()\n",
    "ax.set_title('L1 Loss')"
   ]
  },
  {
   "cell_type": "code",
   "execution_count": null,
   "metadata": {
    "collapsed": false
   },
   "outputs": [],
   "source": [
    "pL1[['w_0', 'w_1', 'w_2']].diff().abs().tail(20).plot()"
   ]
  },
  {
   "cell_type": "code",
   "execution_count": null,
   "metadata": {
    "collapsed": false
   },
   "outputs": [],
   "source": [
    "%%latex\n",
    "$\\bf{1.1}$ With $\\lambda$ = 0, the weight vector takes longer to converge, as the weights keep expanding away from 0 for longer.\n",
    "When we add the $L2$ regularization penalty, with $\\lambda$=1, it takes only 90 iterations to achieve convergence."
   ]
  },
  {
   "cell_type": "code",
   "execution_count": null,
   "metadata": {
    "collapsed": false
   },
   "outputs": [],
   "source": [
    "%%latex\n",
    "$\\bf{1.2}$ When we add the $L1$ regularization penalty, with $\\lambda$=1, it takes  more iterations to achieve convergence because the coefficients that drop out bounce around zero.\n"
   ]
  },
  {
   "cell_type": "code",
   "execution_count": null,
   "metadata": {
    "collapsed": false
   },
   "outputs": [],
   "source": [
    "%%time\n"
   ]
  },
  {
   "cell_type": "markdown",
   "metadata": {},
   "source": [
    "# 2.1 Implement Dual Form of linear SVM with slack variables\n",
    "\n",
    "### Intro Notes\n",
    "- Weight vector w as weighted linear combination of instances\n",
    "- Only points on margin matter; ignore the rest, solution remains\n",
    "unchanged\n",
    "- Keeps instances away from the margin\n",
    "- \"Finding the minimum error separating hyperplane is NP-hard\" \n",
    "\n",
    "- f(x) = <w, x> + b\n",
    "\n",
    "\n",
    "### TODO:\n",
    "- verify get_theta division\n",
    "- tables, figures for writeup\n",
    "\n"
   ]
  },
  {
   "cell_type": "code",
   "execution_count": null,
   "metadata": {
    "collapsed": false
   },
   "outputs": [],
   "source": [
    "%%latex\n",
    "For linear SVM, $w = \\sum{y_{i}a_{i}x_{i}}$."
   ]
  },
  {
   "cell_type": "code",
   "execution_count": null,
   "metadata": {
    "collapsed": true
   },
   "outputs": [],
   "source": [
    "from cvxopt import matrix, solvers"
   ]
  },
  {
   "cell_type": "code",
   "execution_count": null,
   "metadata": {
    "collapsed": true
   },
   "outputs": [],
   "source": [
    "from numpy.linalg import norm"
   ]
  },
  {
   "cell_type": "code",
   "execution_count": null,
   "metadata": {
    "code_folding": [],
    "collapsed": false
   },
   "outputs": [],
   "source": [
    "#def train_svm(X, y, kernel=linear_kernel, C=1.):\n",
    "n_samples, n_features = X.shape\n",
    "y = Y"
   ]
  },
  {
   "cell_type": "code",
   "execution_count": null,
   "metadata": {
    "collapsed": false
   },
   "outputs": [],
   "source": [
    "one_vec = X.dot(X[0])\n",
    "kernel  = linear_kernel\n",
    "C = 1.\n",
    "LINEAR_KERNEL = np.dotm"
   ]
  },
  {
   "cell_type": "code",
   "execution_count": 2,
   "metadata": {
    "collapsed": false
   },
   "outputs": [],
   "source": [
    "#P"
   ]
  },
  {
   "cell_type": "code",
   "execution_count": null,
   "metadata": {
    "collapsed": true
   },
   "outputs": [],
   "source": [
    "del get_weights"
   ]
  },
  {
   "cell_type": "code",
   "execution_count": null,
   "metadata": {
    "collapsed": false
   },
   "outputs": [],
   "source": [
    "def get_theta(sv, svy, ind, alpha, K, non_zero_mask):\n",
    "        theta_0 = 0   #intercept\n",
    "        for n in range(len(alpha)):\n",
    "            theta_0 +=  (svy[n] - np.sum(alpha *svy * K[ind[n],  non_zero_mask]))\n",
    "            theta_0 /= len(alpha)  # seems wierd\n",
    "        return theta_0"
   ]
  },
  {
   "cell_type": "code",
   "execution_count": 63,
   "metadata": {
    "code_folding": [],
    "collapsed": false
   },
   "outputs": [
    {
     "ename": "NameError",
     "evalue": "name 'LINEAR_KERNEL' is not defined",
     "output_type": "error",
     "traceback": [
      "\u001b[0;31m---------------------------------------------------------------------------\u001b[0m",
      "\u001b[0;31mNameError\u001b[0m                                 Traceback (most recent call last)",
      "\u001b[0;32m<ipython-input-63-e6c5c0174559>\u001b[0m in \u001b[0;36m<module>\u001b[0;34m()\u001b[0m\n\u001b[0;32m----> 1\u001b[0;31m \u001b[0;32mclass\u001b[0m \u001b[0mSVMD\u001b[0m\u001b[0;34m(\u001b[0m\u001b[0mobject\u001b[0m\u001b[0;34m)\u001b[0m\u001b[0;34m:\u001b[0m\u001b[0;34m\u001b[0m\u001b[0m\n\u001b[0m\u001b[1;32m      2\u001b[0m     \u001b[0;32mdef\u001b[0m \u001b[0m__init__\u001b[0m\u001b[0;34m(\u001b[0m\u001b[0mself\u001b[0m\u001b[0;34m,\u001b[0m \u001b[0mX\u001b[0m\u001b[0;34m,\u001b[0m \u001b[0my\u001b[0m\u001b[0;34m,\u001b[0m \u001b[0mkernel\u001b[0m\u001b[0;34m=\u001b[0m\u001b[0mLINEAR_KERNEL\u001b[0m\u001b[0;34m,\u001b[0m \u001b[0mC\u001b[0m\u001b[0;34m=\u001b[0m\u001b[0;36m1.\u001b[0m\u001b[0;34m)\u001b[0m\u001b[0;34m:\u001b[0m\u001b[0;34m\u001b[0m\u001b[0m\n\u001b[1;32m      3\u001b[0m         \u001b[0mn_samples\u001b[0m\u001b[0;34m,\u001b[0m \u001b[0mn_features\u001b[0m \u001b[0;34m=\u001b[0m \u001b[0mX\u001b[0m\u001b[0;34m.\u001b[0m\u001b[0mshape\u001b[0m\u001b[0;34m\u001b[0m\u001b[0m\n\u001b[1;32m      4\u001b[0m         \u001b[0mself\u001b[0m\u001b[0;34m.\u001b[0m\u001b[0mX\u001b[0m \u001b[0;34m=\u001b[0m  \u001b[0mX\u001b[0m\u001b[0;34m\u001b[0m\u001b[0m\n\u001b[1;32m      5\u001b[0m         \u001b[0mself\u001b[0m\u001b[0;34m.\u001b[0m\u001b[0my\u001b[0m \u001b[0;34m=\u001b[0m \u001b[0my\u001b[0m\u001b[0;34m\u001b[0m\u001b[0m\n",
      "\u001b[0;32m<ipython-input-63-e6c5c0174559>\u001b[0m in \u001b[0;36mSVMD\u001b[0;34m()\u001b[0m\n\u001b[1;32m      1\u001b[0m \u001b[0;32mclass\u001b[0m \u001b[0mSVMD\u001b[0m\u001b[0;34m(\u001b[0m\u001b[0mobject\u001b[0m\u001b[0;34m)\u001b[0m\u001b[0;34m:\u001b[0m\u001b[0;34m\u001b[0m\u001b[0m\n\u001b[0;32m----> 2\u001b[0;31m     \u001b[0;32mdef\u001b[0m \u001b[0m__init__\u001b[0m\u001b[0;34m(\u001b[0m\u001b[0mself\u001b[0m\u001b[0;34m,\u001b[0m \u001b[0mX\u001b[0m\u001b[0;34m,\u001b[0m \u001b[0my\u001b[0m\u001b[0;34m,\u001b[0m \u001b[0mkernel\u001b[0m\u001b[0;34m=\u001b[0m\u001b[0mLINEAR_KERNEL\u001b[0m\u001b[0;34m,\u001b[0m \u001b[0mC\u001b[0m\u001b[0;34m=\u001b[0m\u001b[0;36m1.\u001b[0m\u001b[0;34m)\u001b[0m\u001b[0;34m:\u001b[0m\u001b[0;34m\u001b[0m\u001b[0m\n\u001b[0m\u001b[1;32m      3\u001b[0m         \u001b[0mn_samples\u001b[0m\u001b[0;34m,\u001b[0m \u001b[0mn_features\u001b[0m \u001b[0;34m=\u001b[0m \u001b[0mX\u001b[0m\u001b[0;34m.\u001b[0m\u001b[0mshape\u001b[0m\u001b[0;34m\u001b[0m\u001b[0m\n\u001b[1;32m      4\u001b[0m         \u001b[0mself\u001b[0m\u001b[0;34m.\u001b[0m\u001b[0mX\u001b[0m \u001b[0;34m=\u001b[0m  \u001b[0mX\u001b[0m\u001b[0;34m\u001b[0m\u001b[0m\n\u001b[1;32m      5\u001b[0m         \u001b[0mself\u001b[0m\u001b[0;34m.\u001b[0m\u001b[0my\u001b[0m \u001b[0;34m=\u001b[0m \u001b[0my\u001b[0m\u001b[0;34m\u001b[0m\u001b[0m\n",
      "\u001b[0;31mNameError\u001b[0m: name 'LINEAR_KERNEL' is not defined"
     ]
    }
   ],
   "source": [
    "class SVMD(object):\n",
    "    def __init__(self, X, y, kernel=LINEAR_KERNEL, C=1.):\n",
    "        n_samples, n_features = X.shape\n",
    "        self.X =  X\n",
    "        self.y = y\n",
    "        self.C = C\n",
    "        self.K = np.array([[kernel(X[i], X[j]) for i in range(n_samples)] for j in range(n_samples)])\n",
    "        self.kernel = kernel\n",
    "        self.n_features = X.shape[1]\n",
    "        self.solution = self.train()\n",
    "        alpha, ind, mask = self.inspect(self.solution)\n",
    "        svx = self.X[mask]\n",
    "        svy = self.y[mask]\n",
    "        self.svx, self.svy, self.ind, self.alpha, self.mask = svx, svy, ind, alpha[mask], mask\n",
    "\n",
    "    def fit(self):\n",
    "        self.theta = get_theta(self.svx, self.svy,  self.ind, self.alpha, self.K, self.mask)\n",
    "        return self\n",
    "    \n",
    "    def train(self):\n",
    "        X,y, kernel, C = self.X, self.y, self.kernel, self.C  # to avoid typing self\n",
    "        n_samples, n_features = X.shape\n",
    "        P = matrix(np.outer(y,y) * self.K)\n",
    "        q = matrix(np.ones(n_samples)*-1.)\n",
    "        A = matrix(y, (1, n_samples))\n",
    "        b = matrix(0.)\n",
    "        G = matrix(np.vstack([np.diag(np.ones(n_samples)) * -1, np.diag(np.ones(n_samples))]))\n",
    "        h = matrix(np.hstack([np.zeros(n_samples), self.C *np.ones(n_samples)]))\n",
    "        return solvers.qp(P, q, G, h, A, b)\n",
    "\n",
    "    \n",
    "    @staticmethod\n",
    "    def inspect(solution, cutoff=1e-5):\n",
    "        alpha = np.ravel(solution['x'])\n",
    "        non_zero_mask = alpha > cutoff\n",
    "        ind = np.arange(len(alpha))[non_zero_mask]\n",
    "        print ind.mean()\n",
    "        return alpha,ind, non_zero_mask\n",
    "    \n",
    "    def predict(self, X_new):\n",
    "        self.weights = (self.alpha*self.svy).dot(self.svx)\n",
    "        self.margin = 1./ norm(self.weights)\n",
    "        if self.kernel == linear_kernel:    \n",
    "            return np.sign(np.dot(X_new, self.weights) + self.theta)\n",
    "        else:\n",
    "            pred_val = [np.sum([a*y*clf.kernel(X[i], x) for a,y,x in zip(clf.alpha, clf.svy, clf.svx)]) for i in range(X_new.shape[0])]\n",
    "            self.margin = None\n",
    "            return np.sign(np.array(pred_val) + self.theta)\n",
    "\n",
    "    def score(self, X_new, y_new):\n",
    "        yhat = self.predict(X_new)\n",
    "        assert yhat.shape ==  y_new.shape, \"Shape mismatch\"\n",
    "        return (yhat == y_new).mean()\n",
    "    def plot_boundary(self, X, y, **kwargs):\n",
    "        return plotDecisionBoundary(X,y, self.predict, [-1,0,1], **kwargs)"
   ]
  },
  {
   "cell_type": "code",
   "execution_count": 62,
   "metadata": {
    "collapsed": false
   },
   "outputs": [
    {
     "ename": "NameError",
     "evalue": "name 'SVMD' is not defined",
     "output_type": "error",
     "traceback": [
      "\u001b[0;31m---------------------------------------------------------------------------\u001b[0m",
      "\u001b[0;31mNameError\u001b[0m                                 Traceback (most recent call last)",
      "\u001b[0;32m<ipython-input-62-96cf4ec6ca74>\u001b[0m in \u001b[0;36m<module>\u001b[0;34m()\u001b[0m\n\u001b[0;32m----> 1\u001b[0;31m \u001b[0mclf\u001b[0m \u001b[0;34m=\u001b[0m \u001b[0mSVMD\u001b[0m\u001b[0;34m(\u001b[0m\u001b[0mX\u001b[0m\u001b[0;34m,\u001b[0m \u001b[0mY\u001b[0m\u001b[0;34m,\u001b[0m \u001b[0mkernel\u001b[0m\u001b[0;34m=\u001b[0m\u001b[0mgaussian_kernel\u001b[0m\u001b[0;34m,\u001b[0m \u001b[0mC\u001b[0m\u001b[0;34m=\u001b[0m\u001b[0;36m10.\u001b[0m\u001b[0;34m)\u001b[0m\u001b[0;34m.\u001b[0m\u001b[0mfit\u001b[0m\u001b[0;34m(\u001b[0m\u001b[0;34m)\u001b[0m\u001b[0;34m\u001b[0m\u001b[0m\n\u001b[0m",
      "\u001b[0;31mNameError\u001b[0m: name 'SVMD' is not defined"
     ]
    }
   ],
   "source": [
    "clf = SVMD(X, Y, kernel=gaussian_kernel, C=10.).fit()"
   ]
  },
  {
   "cell_type": "code",
   "execution_count": null,
   "metadata": {
    "collapsed": true
   },
   "outputs": [],
   "source": [
    "Xt, Yt = read_in(data=4, suffix='test')\n"
   ]
  },
  {
   "cell_type": "code",
   "execution_count": null,
   "metadata": {
    "collapsed": false
   },
   "outputs": [],
   "source": [
    "def get_stats(data, C=1., **kwargs):\n",
    "    X, Y = read_in(data=data, suffix='train')\n",
    "    Xt, Yt = read_in(data=data, suffix='test')\n",
    "    Xv, Yv = read_in(data=data, suffix='validate')\n",
    "    clf = SVMD(X, Y, C=C, **kwargs).fit()\n",
    "    assert clf.C == C, 'clf.c={}'.format(clf.C)\n",
    "    clf.score(Xt, Yt)\n",
    "    return pd.Series(dict(n_sv=len(clf.alpha),\n",
    "                          tr_score = clf.score(X, Y),\n",
    "                          te_score = clf.score(Xt, Yt),\n",
    "                          val_score = clf.score(Xv, Yv),\n",
    "                          margin=clf.margin,\n",
    "                          weights = clf.weights,\n",
    "                          clf=clf\n",
    "                         )) \n",
    "\n",
    "del X, Y\n",
    "X, Y = read_in(data=1, suffix='train')\n"
   ]
  },
  {
   "cell_type": "code",
   "execution_count": null,
   "metadata": {
    "collapsed": false
   },
   "outputs": [],
   "source": [
    "%%capture\n",
    "res  = pd.DataFrame({d:get_stats(d) for d in [1,2,3,4]}).T"
   ]
  },
  {
   "cell_type": "code",
   "execution_count": null,
   "metadata": {
    "collapsed": false
   },
   "outputs": [],
   "source": [
    "# res.loc[1].clf.ind \n",
    "assert res.loc[1].clf.ind[0] ==16, 'something changed upstream'"
   ]
  },
  {
   "cell_type": "code",
   "execution_count": null,
   "metadata": {
    "collapsed": false
   },
   "outputs": [],
   "source": [
    "tab = 1- res.drop('clf', 1)[['tr_score', 'val_score']].rename_axis('2D Dataset')\n",
    "tab.columns = ['Training Error', 'Validation Error']\n",
    "#print tab.to_latex()\n",
    "#tab"
   ]
  },
  {
   "cell_type": "code",
   "execution_count": null,
   "metadata": {
    "collapsed": false
   },
   "outputs": [],
   "source": [
    "def show_plots(res=res):\n",
    "    suffix = 'train'\n",
    "    for k, row in res.iterrows():\n",
    "        v = row.clf    \n",
    "        X, y = read_in(k, suffix=suffix)\n",
    "        score = v.score(X,y)\n",
    "        v.plot_boundary(X,y, \n",
    "                        title='{} data {}, score={}'.format(suffix, k, score, row.weights)\n",
    "                       )\n",
    "        pl.show()"
   ]
  },
  {
   "cell_type": "code",
   "execution_count": null,
   "metadata": {
    "collapsed": false
   },
   "outputs": [],
   "source": [
    "show_plots()"
   ]
  },
  {
   "cell_type": "code",
   "execution_count": null,
   "metadata": {
    "collapsed": false
   },
   "outputs": [],
   "source": [
    "res"
   ]
  },
  {
   "cell_type": "markdown",
   "metadata": {},
   "source": [
    "### 2.3 Kernels\n"
   ]
  },
  {
   "cell_type": "markdown",
   "metadata": {},
   "source": [
    "### 2.3.0 Notes\n",
    "- Increasing C allows for more nonlinearities\n",
    "- Decreases # errpors\n",
    "- SV boundary may not be contiguous\n",
    "- Kernel width adjusts function class\n",
    "\n",
    "### 2.3.1 Extend code to handle Gaussian RBF kernel\n",
    "\n",
    "**(A)** What happens to the geometric meargin `1/|w|` as `C`  increases? Will this always happen when we increase C?\n",
    "\n",
    "**(B)** What happens to the number of support vectors as C increases?\n",
    "\n",
    "**(C)**Why would maximizing the geometric margin `1/||w||` on the training set not be an appropriate criterion for selecting C? Is there an alternative criterion that we could use for this purpose?\n"
   ]
  },
  {
   "cell_type": "code",
   "execution_count": null,
   "metadata": {
    "collapsed": false
   },
   "outputs": [],
   "source": [
    "def polynomial_kernel(x, y, p=3):\n",
    "    return (1 + np.dot(x, y)) ** p\n",
    "\n",
    "def gaussian_kernel(x,y, sigma=1.):\n",
    "    return np.exp(-norm(x-y)**2 / 2 * (sigma **2))"
   ]
  },
  {
   "cell_type": "code",
   "execution_count": null,
   "metadata": {
    "collapsed": false
   },
   "outputs": [],
   "source": [
    "from ggplot import *\n"
   ]
  },
  {
   "cell_type": "code",
   "execution_count": null,
   "metadata": {
    "collapsed": false
   },
   "outputs": [],
   "source": [
    "X,Y = read_in(data=4, suffix='train')"
   ]
  },
  {
   "cell_type": "code",
   "execution_count": null,
   "metadata": {
    "collapsed": false
   },
   "outputs": [],
   "source": [
    "%%capture\n",
    "clf = SVMD(X, Y, kernel=gaussian_kernel).fit()"
   ]
  },
  {
   "cell_type": "code",
   "execution_count": null,
   "metadata": {
    "collapsed": false
   },
   "outputs": [],
   "source": [
    "clf.score(clf.X, clf.y)"
   ]
  },
  {
   "cell_type": "code",
   "execution_count": null,
   "metadata": {
    "collapsed": false
   },
   "outputs": [],
   "source": [
    " clf.kernel "
   ]
  },
  {
   "cell_type": "code",
   "execution_count": null,
   "metadata": {
    "collapsed": false
   },
   "outputs": [],
   "source": [
    "%%capture\n",
    "lin = SVMD(X, Y, kernel=LINEAR_KERNEL).fit()"
   ]
  },
  {
   "cell_type": "code",
   "execution_count": null,
   "metadata": {
    "collapsed": false
   },
   "outputs": [],
   "source": [
    "res"
   ]
  },
  {
   "cell_type": "code",
   "execution_count": null,
   "metadata": {
    "collapsed": true
   },
   "outputs": [],
   "source": []
  },
  {
   "cell_type": "code",
   "execution_count": null,
   "metadata": {
    "collapsed": false
   },
   "outputs": [],
   "source": [
    "X,y = read_in(3)"
   ]
  },
  {
   "cell_type": "code",
   "execution_count": null,
   "metadata": {
    "collapsed": false
   },
   "outputs": [],
   "source": [
    "from sklearn.svm import LinearSVC"
   ]
  },
  {
   "cell_type": "code",
   "execution_count": null,
   "metadata": {
    "collapsed": false
   },
   "outputs": [],
   "source": [
    "svm.coef_"
   ]
  },
  {
   "cell_type": "code",
   "execution_count": null,
   "metadata": {
    "collapsed": true
   },
   "outputs": [],
   "source": [
    "svm = LinearSVC(loss='hinge').fit(X, y)"
   ]
  },
  {
   "cell_type": "code",
   "execution_count": null,
   "metadata": {
    "collapsed": false
   },
   "outputs": [],
   "source": [
    "LinearSVC."
   ]
  },
  {
   "cell_type": "code",
   "execution_count": null,
   "metadata": {
    "collapsed": true
   },
   "outputs": [],
   "source": [
    "%matplotlib inline"
   ]
  },
  {
   "cell_type": "markdown",
   "metadata": {},
   "source": [
    "### 2.4 Tables describing Parameter search of `C` and `sigma`"
   ]
  },
  {
   "cell_type": "code",
   "execution_count": null,
   "metadata": {
    "collapsed": false
   },
   "outputs": [],
   "source": [
    "%%capture\n",
    "CRange = {.01, .1, 1, 10, 100}\n",
    "SRange = {.001, .01, .1, 1, 10}\n",
    "\n",
    "c_gauss_results = pd.concat([\n",
    "        pd.DataFrame({d:get_stats(d, kernel=funcy.partial(gaussian_kernel, sigma=s), C=c) \n",
    "                      for d in [1,2,3,4]}).T.assign(c=c, signma=s)\n",
    "        for c in CRange\n",
    "        for s in SRange\n",
    "    ]).rename_axis(['data'])\n",
    "\n"
   ]
  },
  {
   "cell_type": "code",
   "execution_count": null,
   "metadata": {
    "collapsed": false
   },
   "outputs": [],
   "source": [
    "%%capture\n",
    "c_lin_results = pd.concat([\n",
    "        pd.DataFrame({d:get_stats(d,C=c) for d in [1,2,3,4]}).T.assign(c=c)\n",
    "        for c in CRange]).rename_axis(['data'])"
   ]
  },
  {
   "cell_type": "code",
   "execution_count": null,
   "metadata": {
    "collapsed": false
   },
   "outputs": [],
   "source": [
    "c_lin_results.loc[1].iloc[-1].clf.C"
   ]
  },
  {
   "cell_type": "code",
   "execution_count": null,
   "metadata": {
    "collapsed": false
   },
   "outputs": [],
   "source": [
    "c_lin_results.set_index('c', append=True).sort_index()"
   ]
  },
  {
   "cell_type": "code",
   "execution_count": null,
   "metadata": {
    "collapsed": false
   },
   "outputs": [],
   "source": [
    "c_gauss_results.set_index('c', append=True).sort_index()"
   ]
  },
  {
   "cell_type": "code",
   "execution_count": null,
   "metadata": {
    "collapsed": false
   },
   "outputs": [],
   "source": [
    "show_plots(res_gauss)"
   ]
  },
  {
   "cell_type": "markdown",
   "metadata": {},
   "source": [
    "# 3. Pegasos\n",
    "**(2)** Observe the the margin (distance between the decision boundary and margin boundary) as a function of L"
   ]
  },
  {
   "cell_type": "code",
   "execution_count": 4,
   "metadata": {
    "collapsed": false
   },
   "outputs": [],
   "source": [
    "MAX_EPOCHS =1e4\n",
    "def pegasos(X, y,L=2, max_epochs=MAX_EPOCHS):\n",
    "    N = np.array([1. / (t*L) for t in range(1, int(MAX_EPOCHS *2))])\n",
    "    w =np.zeros(X.shape[1])\n",
    "    t = 0\n",
    "    while t < max_epochs:\n",
    "        for i, row in enumerate(X):\n",
    "            t +=1\n",
    "            w = (1 - N[t]*L) * w\n",
    "            if y[i]* w.T.dot(row) < 1:\n",
    "                w = w + N[t]*y[i]*row\n",
    "    return w\n",
    "\n",
    "class Pegasos(object):\n",
    "    def __init__(self):\n",
    "        pass\n",
    "    def fit(self, X,y, **kwargs):\n",
    "        self.coef_ = pegasos(X,y, **kwargs)\n",
    "        return self\n",
    "    def predict(self, X):\n",
    "        return X.dot(self.coef_)\n"
   ]
  },
  {
   "cell_type": "code",
   "execution_count": 5,
   "metadata": {
    "collapsed": false
   },
   "outputs": [
    {
     "ename": "NameError",
     "evalue": "name 'X' is not defined",
     "output_type": "error",
     "traceback": [
      "\u001b[0;31m---------------------------------------------------------------------------\u001b[0m",
      "\u001b[0;31mNameError\u001b[0m                                 Traceback (most recent call last)",
      "\u001b[0;32m<ipython-input-5-94ac14b6de5b>\u001b[0m in \u001b[0;36m<module>\u001b[0;34m()\u001b[0m\n\u001b[0;32m----> 1\u001b[0;31m \u001b[0mp\u001b[0m \u001b[0;34m=\u001b[0m \u001b[0mPegasos\u001b[0m\u001b[0;34m(\u001b[0m\u001b[0;34m)\u001b[0m\u001b[0;34m.\u001b[0m\u001b[0mfit\u001b[0m\u001b[0;34m(\u001b[0m\u001b[0mX\u001b[0m\u001b[0;34m,\u001b[0m \u001b[0my\u001b[0m\u001b[0;34m)\u001b[0m\u001b[0;34m\u001b[0m\u001b[0m\n\u001b[0m\u001b[1;32m      2\u001b[0m \u001b[0mplotDecisionBoundary\u001b[0m\u001b[0;34m(\u001b[0m\u001b[0mX\u001b[0m\u001b[0;34m,\u001b[0m\u001b[0my\u001b[0m\u001b[0;34m,\u001b[0m \u001b[0mp\u001b[0m\u001b[0;34m.\u001b[0m\u001b[0mpredict\u001b[0m\u001b[0;34m,\u001b[0m \u001b[0;34m[\u001b[0m\u001b[0;34m-\u001b[0m\u001b[0;36m1\u001b[0m\u001b[0;34m,\u001b[0m\u001b[0;36m0\u001b[0m\u001b[0;34m,\u001b[0m\u001b[0;36m1\u001b[0m\u001b[0;34m]\u001b[0m\u001b[0;34m,\u001b[0m \u001b[0mtitle\u001b[0m\u001b[0;34m=\u001b[0m\u001b[0;34m'Pegasos SVM'\u001b[0m\u001b[0;34m)\u001b[0m\u001b[0;34m\u001b[0m\u001b[0m\n",
      "\u001b[0;31mNameError\u001b[0m: name 'X' is not defined"
     ]
    }
   ],
   "source": [
    "p = Pegasos().fit(X, y)\n",
    "plotDecisionBoundary(X,y, p.predict, [-1,0,1], title='Pegasos SVM')"
   ]
  },
  {
   "cell_type": "code",
   "execution_count": null,
   "metadata": {
    "collapsed": true
   },
   "outputs": [],
   "source": [
    "\n",
    "plotDecisionBoundary(X[:4], y[:4], clf.predict, [-1,0,1])"
   ]
  },
  {
   "cell_type": "code",
   "execution_count": null,
   "metadata": {
    "collapsed": false,
    "scrolled": false
   },
   "outputs": [],
   "source": [
    "clf = LinearSVC().fit(X, y)\n",
    "print clf.coef_\n",
    "plotDecisionBoundary(X[:4], y[:4], clf.predict, [-1,0,1])"
   ]
  },
  {
   "cell_type": "code",
   "execution_count": null,
   "metadata": {
    "collapsed": false
   },
   "outputs": [],
   "source": [
    "pl.show()"
   ]
  },
  {
   "cell_type": "code",
   "execution_count": null,
   "metadata": {
    "collapsed": false
   },
   "outputs": [],
   "source": [
    "plotDecisionBoundary(X,np.array(y), clf.predict, [-1,0,1], title='Pegasos SVM, l={}'.format(L))"
   ]
  },
  {
   "cell_type": "code",
   "execution_count": null,
   "metadata": {
    "collapsed": true
   },
   "outputs": [],
   "source": [
    "pl.show()"
   ]
  },
  {
   "cell_type": "code",
   "execution_count": null,
   "metadata": {
    "collapsed": false
   },
   "outputs": [],
   "source": [
    "y.shape"
   ]
  },
  {
   "cell_type": "code",
   "execution_count": null,
   "metadata": {
    "collapsed": false
   },
   "outputs": [],
   "source": [
    "X.shape"
   ]
  },
  {
   "cell_type": "code",
   "execution_count": null,
   "metadata": {
    "collapsed": false,
    "scrolled": false
   },
   "outputs": [],
   "source": [
    "\n",
    "for power in range(-10, 1,2):\n",
    "    L= 2^power\n",
    "    p = Pegasos().fit(X, y, L=L)\n",
    "    print p.coef_\n",
    "    plotDecisionBoundary(X,y, p.predict, [-1,0,1], title='Pegasos SVM, l={}'.format(L))"
   ]
  },
  {
   "cell_type": "code",
   "execution_count": null,
   "metadata": {
    "collapsed": true
   },
   "outputs": [],
   "source": []
  }
 ],
 "metadata": {
  "kernelspec": {
   "display_name": "Python [Root]",
   "language": "python",
   "name": "Python [Root]"
  },
  "language_info": {
   "codemirror_mode": {
    "name": "ipython",
    "version": 3
   },
   "file_extension": ".py",
   "mimetype": "text/x-python",
   "name": "python",
   "nbconvert_exporter": "python",
   "pygments_lexer": "ipython3",
   "version": "3.5.2"
  }
 },
 "nbformat": 4,
 "nbformat_minor": 1
}
