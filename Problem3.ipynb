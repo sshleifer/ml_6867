{
 "cells": [
  {
   "cell_type": "code",
   "execution_count": 1,
   "metadata": {
    "collapsed": false
   },
   "outputs": [],
   "source": [
    "%load_ext autoreload \n",
    "# saving changes to code reloads them in the environment\n",
    "%autoreload 2\n",
    "%matplotlib inline\n",
    "\n",
    "import numpy as np\n",
    "import matplotlib.pyplot as plt\n",
    "import pandas as pd\n",
    "import pylab as pl\n",
    "import sys\n",
    "import funcy\n",
    "from __future__ import division\n",
    "import numpy as np\n",
    "import scipy.optimize as spo\n",
    "import pandas as pd\n",
    "from collections import defaultdict\n",
    "from code.gradient_descent import _gradient_descent, gradient_descent, SGD, g_error, b_error \n",
    "from code.helpers import f_gauss, d_gauss, f_bowl, d_bowl, get_lr\n",
    "from code.basis_func import create_basis, create_cos_basis, BasisSearch, plotter\n",
    "from code.constants import *\n",
    "import pdb\n",
    "import random\n",
    "import pylab as pl\n",
    "\n",
    "import os\n",
    "from sklearn.linear_model import *\n",
    "import seaborn as sns"
   ]
  },
  {
   "cell_type": "code",
   "execution_count": 2,
   "metadata": {
    "collapsed": false
   },
   "outputs": [],
   "source": [
    "# X is an array of N data points (one dimensional for now), that is, NX1\n",
    "# Y is a Nx1 column vector of data values\n",
    "\n",
    "def getData(name):\n",
    "    data = pl.loadtxt(os.path.join('hw1code/P3', name))\n",
    "    # Returns column matrices\n",
    "    X = data[0:1].T\n",
    "    Y = data[1:2].T\n",
    "    return X, Y\n",
    "\n",
    "AX, AY = getData('regressA_train.txt')\n",
    "BX, BY =getData('regressB_train.txt')\n",
    "VX, VY = getData('regress_validate.txt')"
   ]
  },
  {
   "cell_type": "code",
   "execution_count": 3,
   "metadata": {
    "collapsed": false
   },
   "outputs": [
    {
     "data": {
      "text/latex": [
       "Weights for Ridge: from bishop\n",
       "$ w = (λI + Φ_{T}Φ_{−1}) Φ_{T}y$"
      ],
      "text/plain": [
       "<IPython.core.display.Latex object>"
      ]
     },
     "metadata": {},
     "output_type": "display_data"
    }
   ],
   "source": [
    "%%latex\n",
    "Weights for Ridge: from bishop\n",
    "$ w = (λI + Φ_{T}Φ_{−1}) Φ_{T}y$"
   ]
  },
  {
   "cell_type": "code",
   "execution_count": null,
   "metadata": {
    "collapsed": false
   },
   "outputs": [],
   "source": [
    "axt = create_basis(AX, M=9)[0]"
   ]
  },
  {
   "cell_type": "code",
   "execution_count": null,
   "metadata": {
    "collapsed": true
   },
   "outputs": [],
   "source": [
    "cdata = pl.loadtxt('hw1code/P2/curvefittingp2.txt')\n",
    "\n",
    "cX = np.array([cdata[0]]).T\n",
    "cY = cdata[1,:]\n"
   ]
  },
  {
   "cell_type": "code",
   "execution_count": null,
   "metadata": {
    "collapsed": false
   },
   "outputs": [],
   "source": [
    "pd.DataFrame({'us': np.squeeze(ridge_weights(AX, AY, lab)),\n",
    "              'clf': np.squeeze(LinearRegression().(AX, AY))}).corr()"
   ]
  },
  {
   "cell_type": "code",
   "execution_count": null,
   "metadata": {
    "collapsed": false
   },
   "outputs": [],
   "source": [
    "cY.shape"
   ]
  },
  {
   "cell_type": "markdown",
   "metadata": {},
   "source": [
    "# 3.1 Implement Ridge"
   ]
  },
  {
   "cell_type": "code",
   "execution_count": 26,
   "metadata": {
    "collapsed": false
   },
   "outputs": [],
   "source": [
    "def ridge_weights(x, y, M=9, l=.5):\n",
    "    axt = create_basis(x, M=M)[0]\n",
    "    \n",
    "    lh = np.linalg.inv(np.eye(axt.shape[1])*l+ axt.T.dot(axt))\n",
    "    return np.squeeze(lh.dot(axt.T.dot(y)))\n",
    "\n",
    "def ridge_loss(x, y, w=None, M=9, l=.5):\n",
    "    axt = create_basis(x, M=M)[0]\n",
    "    #print axt.shape\n",
    "    if w is None:\n",
    "        lh = np.linalg.inv(np.eye(axt.shape[1])*l+ axt.T.dot(axt))\n",
    "        w = np.squeeze(lh.dot(axt.T.dot(y)))\n",
    "    yhat = axt.dot(w)\n",
    "    err = (yhat - np.squeeze(y))\n",
    "    assert err.shape == yhat.shape\n",
    "    mse = np.mean(err ** 2)\n",
    "    return mse\n",
    "\n",
    "def clf_w(Xtr, ytr, M=9, clf=Ridge()):\n",
    "    return np.squeeze(clf.fit(create_basis(Xtr, M=M)[0], ytr).coef_)\n",
    "    #clf.predict(create_basis(Xte, M=M)[0])"
   ]
  },
  {
   "cell_type": "code",
   "execution_count": 16,
   "metadata": {
    "collapsed": true
   },
   "outputs": [],
   "source": [
    "dev = np.sum(np.abs(clf_w(AX, AY, clf=LinearRegression(fit_intercept=False)) - ridge_weights(AX, AY, l=0)))\n",
    "assert np.round(dev, 3) == 0\n"
   ]
  },
  {
   "cell_type": "code",
   "execution_count": 6,
   "metadata": {
    "collapsed": false
   },
   "outputs": [],
   "source": [
    "lspace = [0, .1, .5, 1, 3,5,10, 12, 100, 200, 1000, 10000]\n",
    "mspace  = range(1, 6)\n",
    "def loss_map(cX, cY, lspace=lspace, mspace=mspace):\n",
    "    return pd.DataFrame({l: pd.Series({m: ridge_loss(cX, cY,M=m, l=l)\n",
    "                                for m in mspace})\n",
    "                for l in lspace}).round(3).rename_axis('M').rename_axis('L', 1)"
   ]
  },
  {
   "cell_type": "code",
   "execution_count": 7,
   "metadata": {
    "collapsed": true
   },
   "outputs": [],
   "source": [
    "def oos_loss(Xtr, ytr, Xte, yte, **kwargs):\n",
    "    w = ridge_weights(Xtr, ytr, **kwargs)\n",
    "    return ridge_loss(Xte, yte, w=w, **kwargs)\n",
    "def iss_loss(Xtr, ytr, Xte, yte, **kwargs):\n",
    "    return ridge_loss(Xtr, ytr, **kwargs)"
   ]
  },
  {
   "cell_type": "code",
   "execution_count": 8,
   "metadata": {
    "collapsed": false
   },
   "outputs": [],
   "source": []
  },
  {
   "cell_type": "code",
   "execution_count": 37,
   "metadata": {
    "collapsed": false
   },
   "outputs": [],
   "source": [
    "AX5 = create_basis(AX, M=5)[0]\n",
    "yhat = LinearRegression(fit_intercept=False).fit(AX5, AY).predict(AX5)\n",
    "desired_mse = np.mean((yhat - AY)**2)\n",
    "assert np.round(ridge_loss(AX, AY, M=5, l=0) -  desired_mse, 4) == 0"
   ]
  },
  {
   "cell_type": "code",
   "execution_count": 29,
   "metadata": {
    "collapsed": true
   },
   "outputs": [],
   "source": [
    "def oos_loss_map(Xtr, ytr, Xte, yte, lspace=lspace, mspace=mspace):\n",
    "    return pd.DataFrame({l: pd.Series({m: oos_loss(Xtr, ytr, Xte, yte, M=m, l=l)\n",
    "                                for m in mspace})\n",
    "                for l in lspace}).round(3).rename_axis('M').rename_axis('L', 1)"
   ]
  },
  {
   "cell_type": "markdown",
   "metadata": {},
   "source": [
    "# 3.2 Train, Test, Validate for different `L` and `M` "
   ]
  },
  {
   "cell_type": "code",
   "execution_count": null,
   "metadata": {
    "collapsed": true
   },
   "outputs": [],
   "source": [
    "ridge_loss(BX, BY, w=ridge_weights(AX, AY))"
   ]
  },
  {
   "cell_type": "code",
   "execution_count": null,
   "metadata": {
    "collapsed": false
   },
   "outputs": [],
   "source": [
    "ridge_loss(BX, BY, w=ridge_weights(AX, AY))"
   ]
  },
  {
   "cell_type": "code",
   "execution_count": null,
   "metadata": {
    "collapsed": false
   },
   "outputs": [],
   "source": [
    "AX.shape"
   ]
  },
  {
   "cell_type": "code",
   "execution_count": null,
   "metadata": {
    "collapsed": false
   },
   "outputs": [],
   "source": [
    "BX.shape"
   ]
  },
  {
   "cell_type": "code",
   "execution_count": null,
   "metadata": {
    "collapsed": false
   },
   "outputs": [],
   "source": [
    "VX.shape"
   ]
  },
  {
   "cell_type": "code",
   "execution_count": null,
   "metadata": {
    "collapsed": false
   },
   "outputs": [],
   "source": [
    "ridge_loss(AX, AY, w=ridge_weights(BX, BY))"
   ]
  },
  {
   "cell_type": "code",
   "execution_count": null,
   "metadata": {
    "collapsed": false
   },
   "outputs": [],
   "source": [
    "clf_loss(AX, AY, BX, BY)"
   ]
  },
  {
   "cell_type": "code",
   "execution_count": null,
   "metadata": {
    "collapsed": false
   },
   "outputs": [],
   "source": [
    "ridge_weights(AX, AY)"
   ]
  },
  {
   "cell_type": "code",
   "execution_count": 32,
   "metadata": {
    "collapsed": true
   },
   "outputs": [],
   "source": [
    "def oos_loss_map(Xtr, ytr, Xte, yte, lspace=lspace, mspace=mspace):\n",
    "    return pd.DataFrame({l: pd.Series({m: oos_loss(Xtr, ytr, Xte, yte, M=m, l=l)\n",
    "                                for m in mspace})\n",
    "                for l in lspace}).round(3).rename_axis('M').rename_axis('L', 1)"
   ]
  },
  {
   "cell_type": "code",
   "execution_count": 33,
   "metadata": {
    "collapsed": true
   },
   "outputs": [],
   "source": [
    "def iss_loss_map(Xtr, ytr, Xte=None, yte=None, lspace=lspace, mspace=mspace):\n",
    "    return pd.DataFrame({l: pd.Series({m: ridge_loss(Xtr, ytr, M=m, l=l)\n",
    "                                for m in mspace})\n",
    "                for l in lspace}).round(3).rename_axis('M').rename_axis('L', 1)"
   ]
  },
  {
   "cell_type": "code",
   "execution_count": 77,
   "metadata": {
    "collapsed": false
   },
   "outputs": [],
   "source": [
    "loss_av = oos_loss_map(AX, AY, VX, VY)\n",
    "loss_ab = oos_loss_map(AX, AY, BX, BY)\n",
    "loss_a = iss_loss_map(AX, AY)\n",
    "loss_b = iss_loss_map(BX, BY)\n",
    "loss_bv = oos_loss_map(BX, BY, VX, VY)\n",
    "loss_ba = oos_loss_map(BX, BY, AX, AY)\n"
   ]
  },
  {
   "cell_type": "code",
   "execution_count": 35,
   "metadata": {
    "collapsed": false
   },
   "outputs": [
    {
     "data": {
      "text/html": [
       "<div>\n",
       "<table border=\"1\" class=\"dataframe\">\n",
       "  <thead>\n",
       "    <tr style=\"text-align: right;\">\n",
       "      <th>L</th>\n",
       "      <th>0.0</th>\n",
       "      <th>0.1</th>\n",
       "      <th>0.5</th>\n",
       "      <th>1.0</th>\n",
       "      <th>3.0</th>\n",
       "      <th>5.0</th>\n",
       "      <th>10.0</th>\n",
       "      <th>12.0</th>\n",
       "      <th>100.0</th>\n",
       "      <th>200.0</th>\n",
       "      <th>1000.0</th>\n",
       "      <th>10000.0</th>\n",
       "    </tr>\n",
       "    <tr>\n",
       "      <th>M</th>\n",
       "      <th></th>\n",
       "      <th></th>\n",
       "      <th></th>\n",
       "      <th></th>\n",
       "      <th></th>\n",
       "      <th></th>\n",
       "      <th></th>\n",
       "      <th></th>\n",
       "      <th></th>\n",
       "      <th></th>\n",
       "      <th></th>\n",
       "      <th></th>\n",
       "    </tr>\n",
       "  </thead>\n",
       "  <tbody>\n",
       "    <tr>\n",
       "      <th>1</th>\n",
       "      <td>0.076</td>\n",
       "      <td>0.076</td>\n",
       "      <td>0.078</td>\n",
       "      <td>0.082</td>\n",
       "      <td>0.120</td>\n",
       "      <td>0.175</td>\n",
       "      <td>0.333</td>\n",
       "      <td>0.397</td>\n",
       "      <td>1.825</td>\n",
       "      <td>2.318</td>\n",
       "      <td>2.927</td>\n",
       "      <td>3.107</td>\n",
       "    </tr>\n",
       "    <tr>\n",
       "      <th>2</th>\n",
       "      <td>0.067</td>\n",
       "      <td>0.067</td>\n",
       "      <td>0.071</td>\n",
       "      <td>0.078</td>\n",
       "      <td>0.128</td>\n",
       "      <td>0.185</td>\n",
       "      <td>0.328</td>\n",
       "      <td>0.383</td>\n",
       "      <td>1.796</td>\n",
       "      <td>2.307</td>\n",
       "      <td>2.927</td>\n",
       "      <td>3.107</td>\n",
       "    </tr>\n",
       "    <tr>\n",
       "      <th>3</th>\n",
       "      <td>0.067</td>\n",
       "      <td>0.068</td>\n",
       "      <td>0.073</td>\n",
       "      <td>0.086</td>\n",
       "      <td>0.161</td>\n",
       "      <td>0.231</td>\n",
       "      <td>0.355</td>\n",
       "      <td>0.389</td>\n",
       "      <td>0.747</td>\n",
       "      <td>0.908</td>\n",
       "      <td>1.491</td>\n",
       "      <td>2.655</td>\n",
       "    </tr>\n",
       "    <tr>\n",
       "      <th>4</th>\n",
       "      <td>0.046</td>\n",
       "      <td>0.047</td>\n",
       "      <td>0.050</td>\n",
       "      <td>0.059</td>\n",
       "      <td>0.117</td>\n",
       "      <td>0.180</td>\n",
       "      <td>0.308</td>\n",
       "      <td>0.347</td>\n",
       "      <td>0.764</td>\n",
       "      <td>0.867</td>\n",
       "      <td>1.395</td>\n",
       "      <td>2.650</td>\n",
       "    </tr>\n",
       "    <tr>\n",
       "      <th>5</th>\n",
       "      <td>0.044</td>\n",
       "      <td>0.045</td>\n",
       "      <td>0.053</td>\n",
       "      <td>0.065</td>\n",
       "      <td>0.110</td>\n",
       "      <td>0.154</td>\n",
       "      <td>0.259</td>\n",
       "      <td>0.297</td>\n",
       "      <td>0.829</td>\n",
       "      <td>0.936</td>\n",
       "      <td>1.058</td>\n",
       "      <td>1.390</td>\n",
       "    </tr>\n",
       "  </tbody>\n",
       "</table>\n",
       "</div>"
      ],
      "text/plain": [
       "L  0.0      0.1      0.5      1.0      3.0      5.0      10.0     12.0     \\\n",
       "M                                                                           \n",
       "1    0.076    0.076    0.078    0.082    0.120    0.175    0.333    0.397   \n",
       "2    0.067    0.067    0.071    0.078    0.128    0.185    0.328    0.383   \n",
       "3    0.067    0.068    0.073    0.086    0.161    0.231    0.355    0.389   \n",
       "4    0.046    0.047    0.050    0.059    0.117    0.180    0.308    0.347   \n",
       "5    0.044    0.045    0.053    0.065    0.110    0.154    0.259    0.297   \n",
       "\n",
       "L  100.0    200.0    1000.0   10000.0  \n",
       "M                                      \n",
       "1    1.825    2.318    2.927    3.107  \n",
       "2    1.796    2.307    2.927    3.107  \n",
       "3    0.747    0.908    1.491    2.655  \n",
       "4    0.764    0.867    1.395    2.650  \n",
       "5    0.829    0.936    1.058    1.390  "
      ]
     },
     "execution_count": 35,
     "metadata": {},
     "output_type": "execute_result"
    }
   ],
   "source": [
    "loss_a"
   ]
  },
  {
   "cell_type": "code",
   "execution_count": 36,
   "metadata": {
    "collapsed": false
   },
   "outputs": [
    {
     "data": {
      "text/html": [
       "<div>\n",
       "<table border=\"1\" class=\"dataframe\">\n",
       "  <thead>\n",
       "    <tr style=\"text-align: right;\">\n",
       "      <th>L</th>\n",
       "      <th>0.0</th>\n",
       "      <th>0.1</th>\n",
       "      <th>0.5</th>\n",
       "      <th>1.0</th>\n",
       "      <th>3.0</th>\n",
       "      <th>5.0</th>\n",
       "      <th>10.0</th>\n",
       "      <th>12.0</th>\n",
       "      <th>100.0</th>\n",
       "      <th>200.0</th>\n",
       "      <th>1000.0</th>\n",
       "      <th>10000.0</th>\n",
       "    </tr>\n",
       "    <tr>\n",
       "      <th>M</th>\n",
       "      <th></th>\n",
       "      <th></th>\n",
       "      <th></th>\n",
       "      <th></th>\n",
       "      <th></th>\n",
       "      <th></th>\n",
       "      <th></th>\n",
       "      <th></th>\n",
       "      <th></th>\n",
       "      <th></th>\n",
       "      <th></th>\n",
       "      <th></th>\n",
       "    </tr>\n",
       "  </thead>\n",
       "  <tbody>\n",
       "    <tr>\n",
       "      <th>1</th>\n",
       "      <td>0.132</td>\n",
       "      <td>0.134</td>\n",
       "      <td>0.142</td>\n",
       "      <td>0.155</td>\n",
       "      <td>0.225</td>\n",
       "      <td>0.308</td>\n",
       "      <td>0.521</td>\n",
       "      <td>0.603</td>\n",
       "      <td>2.191</td>\n",
       "      <td>2.687</td>\n",
       "      <td>3.284</td>\n",
       "      <td>3.457</td>\n",
       "    </tr>\n",
       "    <tr>\n",
       "      <th>2</th>\n",
       "      <td>0.107</td>\n",
       "      <td>0.110</td>\n",
       "      <td>0.126</td>\n",
       "      <td>0.147</td>\n",
       "      <td>0.239</td>\n",
       "      <td>0.325</td>\n",
       "      <td>0.518</td>\n",
       "      <td>0.588</td>\n",
       "      <td>2.137</td>\n",
       "      <td>2.660</td>\n",
       "      <td>3.282</td>\n",
       "      <td>3.457</td>\n",
       "    </tr>\n",
       "    <tr>\n",
       "      <th>3</th>\n",
       "      <td>0.108</td>\n",
       "      <td>0.116</td>\n",
       "      <td>0.151</td>\n",
       "      <td>0.198</td>\n",
       "      <td>0.374</td>\n",
       "      <td>0.512</td>\n",
       "      <td>0.735</td>\n",
       "      <td>0.795</td>\n",
       "      <td>1.343</td>\n",
       "      <td>1.535</td>\n",
       "      <td>2.161</td>\n",
       "      <td>3.136</td>\n",
       "    </tr>\n",
       "    <tr>\n",
       "      <th>4</th>\n",
       "      <td>0.163</td>\n",
       "      <td>0.167</td>\n",
       "      <td>0.189</td>\n",
       "      <td>0.221</td>\n",
       "      <td>0.355</td>\n",
       "      <td>0.472</td>\n",
       "      <td>0.686</td>\n",
       "      <td>0.749</td>\n",
       "      <td>1.378</td>\n",
       "      <td>1.522</td>\n",
       "      <td>2.074</td>\n",
       "      <td>3.161</td>\n",
       "    </tr>\n",
       "    <tr>\n",
       "      <th>5</th>\n",
       "      <td>0.188</td>\n",
       "      <td>0.180</td>\n",
       "      <td>0.173</td>\n",
       "      <td>0.181</td>\n",
       "      <td>0.251</td>\n",
       "      <td>0.329</td>\n",
       "      <td>0.518</td>\n",
       "      <td>0.586</td>\n",
       "      <td>1.564</td>\n",
       "      <td>1.768</td>\n",
       "      <td>1.979</td>\n",
       "      <td>2.253</td>\n",
       "    </tr>\n",
       "  </tbody>\n",
       "</table>\n",
       "</div>"
      ],
      "text/plain": [
       "L  0.0      0.1      0.5      1.0      3.0      5.0      10.0     12.0     \\\n",
       "M                                                                           \n",
       "1    0.132    0.134    0.142    0.155    0.225    0.308    0.521    0.603   \n",
       "2    0.107    0.110    0.126    0.147    0.239    0.325    0.518    0.588   \n",
       "3    0.108    0.116    0.151    0.198    0.374    0.512    0.735    0.795   \n",
       "4    0.163    0.167    0.189    0.221    0.355    0.472    0.686    0.749   \n",
       "5    0.188    0.180    0.173    0.181    0.251    0.329    0.518    0.586   \n",
       "\n",
       "L  100.0    200.0    1000.0   10000.0  \n",
       "M                                      \n",
       "1    2.191    2.687    3.284    3.457  \n",
       "2    2.137    2.660    3.282    3.457  \n",
       "3    1.343    1.535    2.161    3.136  \n",
       "4    1.378    1.522    2.074    3.161  \n",
       "5    1.564    1.768    1.979    2.253  "
      ]
     },
     "execution_count": 36,
     "metadata": {},
     "output_type": "execute_result"
    }
   ],
   "source": [
    "loss_av"
   ]
  },
  {
   "cell_type": "code",
   "execution_count": 39,
   "metadata": {
    "collapsed": false
   },
   "outputs": [
    {
     "data": {
      "text/html": [
       "<div>\n",
       "<table border=\"1\" class=\"dataframe\">\n",
       "  <thead>\n",
       "    <tr style=\"text-align: right;\">\n",
       "      <th>L</th>\n",
       "      <th>0.0</th>\n",
       "      <th>0.1</th>\n",
       "      <th>0.5</th>\n",
       "      <th>1.0</th>\n",
       "      <th>3.0</th>\n",
       "      <th>5.0</th>\n",
       "      <th>10.0</th>\n",
       "      <th>12.0</th>\n",
       "      <th>100.0</th>\n",
       "      <th>200.0</th>\n",
       "      <th>1000.0</th>\n",
       "      <th>10000.0</th>\n",
       "    </tr>\n",
       "    <tr>\n",
       "      <th>M</th>\n",
       "      <th></th>\n",
       "      <th></th>\n",
       "      <th></th>\n",
       "      <th></th>\n",
       "      <th></th>\n",
       "      <th></th>\n",
       "      <th></th>\n",
       "      <th></th>\n",
       "      <th></th>\n",
       "      <th></th>\n",
       "      <th></th>\n",
       "      <th></th>\n",
       "    </tr>\n",
       "  </thead>\n",
       "  <tbody>\n",
       "    <tr>\n",
       "      <th>1</th>\n",
       "      <td>1.440</td>\n",
       "      <td>1.440</td>\n",
       "      <td>1.445</td>\n",
       "      <td>1.460</td>\n",
       "      <td>1.573</td>\n",
       "      <td>1.720</td>\n",
       "      <td>2.081</td>\n",
       "      <td>2.207</td>\n",
       "      <td>3.739</td>\n",
       "      <td>4.003</td>\n",
       "      <td>4.254</td>\n",
       "      <td>4.317</td>\n",
       "    </tr>\n",
       "    <tr>\n",
       "      <th>2</th>\n",
       "      <td>1.218</td>\n",
       "      <td>1.218</td>\n",
       "      <td>1.221</td>\n",
       "      <td>1.227</td>\n",
       "      <td>1.269</td>\n",
       "      <td>1.325</td>\n",
       "      <td>1.486</td>\n",
       "      <td>1.552</td>\n",
       "      <td>2.907</td>\n",
       "      <td>3.367</td>\n",
       "      <td>4.048</td>\n",
       "      <td>4.293</td>\n",
       "    </tr>\n",
       "    <tr>\n",
       "      <th>3</th>\n",
       "      <td>0.983</td>\n",
       "      <td>0.984</td>\n",
       "      <td>1.003</td>\n",
       "      <td>1.041</td>\n",
       "      <td>1.198</td>\n",
       "      <td>1.317</td>\n",
       "      <td>1.518</td>\n",
       "      <td>1.580</td>\n",
       "      <td>2.843</td>\n",
       "      <td>3.352</td>\n",
       "      <td>4.046</td>\n",
       "      <td>4.290</td>\n",
       "    </tr>\n",
       "    <tr>\n",
       "      <th>4</th>\n",
       "      <td>0.708</td>\n",
       "      <td>0.718</td>\n",
       "      <td>0.802</td>\n",
       "      <td>0.895</td>\n",
       "      <td>1.134</td>\n",
       "      <td>1.282</td>\n",
       "      <td>1.510</td>\n",
       "      <td>1.572</td>\n",
       "      <td>2.348</td>\n",
       "      <td>2.701</td>\n",
       "      <td>3.452</td>\n",
       "      <td>4.015</td>\n",
       "    </tr>\n",
       "    <tr>\n",
       "      <th>5</th>\n",
       "      <td>0.078</td>\n",
       "      <td>0.106</td>\n",
       "      <td>0.273</td>\n",
       "      <td>0.396</td>\n",
       "      <td>0.627</td>\n",
       "      <td>0.784</td>\n",
       "      <td>1.097</td>\n",
       "      <td>1.199</td>\n",
       "      <td>2.388</td>\n",
       "      <td>2.667</td>\n",
       "      <td>3.383</td>\n",
       "      <td>3.993</td>\n",
       "    </tr>\n",
       "  </tbody>\n",
       "</table>\n",
       "</div>"
      ],
      "text/plain": [
       "L  0.0      0.1      0.5      1.0      3.0      5.0      10.0     12.0     \\\n",
       "M                                                                           \n",
       "1    1.440    1.440    1.445    1.460    1.573    1.720    2.081    2.207   \n",
       "2    1.218    1.218    1.221    1.227    1.269    1.325    1.486    1.552   \n",
       "3    0.983    0.984    1.003    1.041    1.198    1.317    1.518    1.580   \n",
       "4    0.708    0.718    0.802    0.895    1.134    1.282    1.510    1.572   \n",
       "5    0.078    0.106    0.273    0.396    0.627    0.784    1.097    1.199   \n",
       "\n",
       "L  100.0    200.0    1000.0   10000.0  \n",
       "M                                      \n",
       "1    3.739    4.003    4.254    4.317  \n",
       "2    2.907    3.367    4.048    4.293  \n",
       "3    2.843    3.352    4.046    4.290  \n",
       "4    2.348    2.701    3.452    4.015  \n",
       "5    2.388    2.667    3.383    3.993  "
      ]
     },
     "execution_count": 39,
     "metadata": {},
     "output_type": "execute_result"
    }
   ],
   "source": [
    "loss_b"
   ]
  },
  {
   "cell_type": "code",
   "execution_count": 38,
   "metadata": {
    "collapsed": false
   },
   "outputs": [
    {
     "data": {
      "text/html": [
       "<div>\n",
       "<table border=\"1\" class=\"dataframe\">\n",
       "  <thead>\n",
       "    <tr style=\"text-align: right;\">\n",
       "      <th>L</th>\n",
       "      <th>0.0</th>\n",
       "      <th>0.1</th>\n",
       "      <th>0.5</th>\n",
       "      <th>1.0</th>\n",
       "      <th>3.0</th>\n",
       "      <th>5.0</th>\n",
       "      <th>10.0</th>\n",
       "      <th>12.0</th>\n",
       "      <th>100.0</th>\n",
       "      <th>200.0</th>\n",
       "      <th>1000.0</th>\n",
       "      <th>10000.0</th>\n",
       "    </tr>\n",
       "    <tr>\n",
       "      <th>M</th>\n",
       "      <th></th>\n",
       "      <th></th>\n",
       "      <th></th>\n",
       "      <th></th>\n",
       "      <th></th>\n",
       "      <th></th>\n",
       "      <th></th>\n",
       "      <th></th>\n",
       "      <th></th>\n",
       "      <th></th>\n",
       "      <th></th>\n",
       "      <th></th>\n",
       "    </tr>\n",
       "  </thead>\n",
       "  <tbody>\n",
       "    <tr>\n",
       "      <th>1</th>\n",
       "      <td>1.600</td>\n",
       "      <td>1.582</td>\n",
       "      <td>1.520</td>\n",
       "      <td>1.459</td>\n",
       "      <td>1.339</td>\n",
       "      <td>1.328</td>\n",
       "      <td>1.463</td>\n",
       "      <td>1.535</td>\n",
       "      <td>2.849</td>\n",
       "      <td>3.127</td>\n",
       "      <td>3.400</td>\n",
       "      <td>3.470</td>\n",
       "    </tr>\n",
       "    <tr>\n",
       "      <th>2</th>\n",
       "      <td>1.751</td>\n",
       "      <td>1.753</td>\n",
       "      <td>1.760</td>\n",
       "      <td>1.768</td>\n",
       "      <td>1.795</td>\n",
       "      <td>1.824</td>\n",
       "      <td>1.918</td>\n",
       "      <td>1.960</td>\n",
       "      <td>2.808</td>\n",
       "      <td>3.031</td>\n",
       "      <td>3.345</td>\n",
       "      <td>3.462</td>\n",
       "    </tr>\n",
       "    <tr>\n",
       "      <th>3</th>\n",
       "      <td>1.377</td>\n",
       "      <td>1.339</td>\n",
       "      <td>1.278</td>\n",
       "      <td>1.304</td>\n",
       "      <td>1.591</td>\n",
       "      <td>1.801</td>\n",
       "      <td>2.016</td>\n",
       "      <td>2.045</td>\n",
       "      <td>2.495</td>\n",
       "      <td>2.918</td>\n",
       "      <td>3.453</td>\n",
       "      <td>3.487</td>\n",
       "    </tr>\n",
       "    <tr>\n",
       "      <th>4</th>\n",
       "      <td>5.918</td>\n",
       "      <td>4.428</td>\n",
       "      <td>2.505</td>\n",
       "      <td>2.059</td>\n",
       "      <td>2.230</td>\n",
       "      <td>2.595</td>\n",
       "      <td>3.200</td>\n",
       "      <td>3.345</td>\n",
       "      <td>3.166</td>\n",
       "      <td>2.951</td>\n",
       "      <td>3.337</td>\n",
       "      <td>3.488</td>\n",
       "    </tr>\n",
       "    <tr>\n",
       "      <th>5</th>\n",
       "      <td>28.429</td>\n",
       "      <td>22.356</td>\n",
       "      <td>14.001</td>\n",
       "      <td>10.521</td>\n",
       "      <td>5.367</td>\n",
       "      <td>3.336</td>\n",
       "      <td>1.796</td>\n",
       "      <td>1.698</td>\n",
       "      <td>4.036</td>\n",
       "      <td>3.705</td>\n",
       "      <td>3.111</td>\n",
       "      <td>3.982</td>\n",
       "    </tr>\n",
       "  </tbody>\n",
       "</table>\n",
       "</div>"
      ],
      "text/plain": [
       "L  0.0      0.1      0.5      1.0      3.0      5.0      10.0     12.0     \\\n",
       "M                                                                           \n",
       "1    1.600    1.582    1.520    1.459    1.339    1.328    1.463    1.535   \n",
       "2    1.751    1.753    1.760    1.768    1.795    1.824    1.918    1.960   \n",
       "3    1.377    1.339    1.278    1.304    1.591    1.801    2.016    2.045   \n",
       "4    5.918    4.428    2.505    2.059    2.230    2.595    3.200    3.345   \n",
       "5   28.429   22.356   14.001   10.521    5.367    3.336    1.796    1.698   \n",
       "\n",
       "L  100.0    200.0    1000.0   10000.0  \n",
       "M                                      \n",
       "1    2.849    3.127    3.400    3.470  \n",
       "2    2.808    3.031    3.345    3.462  \n",
       "3    2.495    2.918    3.453    3.487  \n",
       "4    3.166    2.951    3.337    3.488  \n",
       "5    4.036    3.705    3.111    3.982  "
      ]
     },
     "execution_count": 38,
     "metadata": {},
     "output_type": "execute_result"
    }
   ],
   "source": [
    "loss_bv"
   ]
  },
  {
   "cell_type": "code",
   "execution_count": 40,
   "metadata": {
    "collapsed": false
   },
   "outputs": [
    {
     "data": {
      "text/plain": [
       "array([ 0.60503682,  1.1303877 ,  0.30816594, -0.13840606, -0.04149159,\n",
       "        0.01327405])"
      ]
     },
     "execution_count": 40,
     "metadata": {},
     "output_type": "execute_result"
    }
   ],
   "source": [
    "ridge_weights(AX,AY,M=5, l=0)"
   ]
  },
  {
   "cell_type": "code",
   "execution_count": 41,
   "metadata": {
    "collapsed": false
   },
   "outputs": [
    {
     "data": {
      "text/plain": [
       "array([ 0.00704325,  0.00893167,  0.01027522,  0.01301723,  0.02851861,\n",
       "        0.02052394])"
      ]
     },
     "execution_count": 41,
     "metadata": {},
     "output_type": "execute_result"
    }
   ],
   "source": [
    "ridge_weights(AX,AY,M=5, l=1000)"
   ]
  },
  {
   "cell_type": "code",
   "execution_count": 42,
   "metadata": {
    "collapsed": false
   },
   "outputs": [],
   "source": [
    "res = loss_av.stack().sort_values()"
   ]
  },
  {
   "cell_type": "code",
   "execution_count": 48,
   "metadata": {
    "collapsed": false
   },
   "outputs": [],
   "source": [
    "def score(AX, AY, VX, VY, BX, BY):\n",
    "    loss_av = oos_loss_map(AX, AY, VX, VY)\n",
    "    res = loss_av.stack().sort_values()\n",
    "    opt_m, opt_l = res.idxmin()\n",
    "    w_opt = ridge_weights(AX, AY, M=opt_m, l=opt_l)\n",
    "    return pd.Series({'Test MSE': ridge_loss(BX, BY, w=w_opt, M=opt_m),\n",
    "                      'Validation MSE': ridge_loss(VX, VY, w=w_opt, M=opt_m),\n",
    "                      'Train MSE': ridge_loss(AX, AY, w=w_opt, M=opt_m),\n",
    "                     'Optimal M': opt_m, 'Optimal L': opt_l}).round(2)\n"
   ]
  },
  {
   "cell_type": "code",
   "execution_count": 49,
   "metadata": {
    "collapsed": false
   },
   "outputs": [],
   "source": [
    "a = score(AX, AY, VX, VY, BX, BY)"
   ]
  },
  {
   "cell_type": "code",
   "execution_count": 50,
   "metadata": {
    "collapsed": false
   },
   "outputs": [],
   "source": [
    "b = score(BX, BY, VX, VY, AX, AY)"
   ]
  },
  {
   "cell_type": "code",
   "execution_count": null,
   "metadata": {
    "collapsed": true
   },
   "outputs": [],
   "source": []
  },
  {
   "cell_type": "code",
   "execution_count": 66,
   "metadata": {
    "collapsed": false
   },
   "outputs": [
    {
     "data": {
      "text/html": [
       "<div>\n",
       "<table border=\"1\" class=\"dataframe\">\n",
       "  <thead>\n",
       "    <tr style=\"text-align: right;\">\n",
       "      <th></th>\n",
       "      <th>Train on A</th>\n",
       "      <th>Train on B</th>\n",
       "    </tr>\n",
       "  </thead>\n",
       "  <tbody>\n",
       "    <tr>\n",
       "      <th>Optimal L</th>\n",
       "      <td>0.00</td>\n",
       "      <td>0.50</td>\n",
       "    </tr>\n",
       "    <tr>\n",
       "      <th>Optimal M</th>\n",
       "      <td>2.00</td>\n",
       "      <td>3.00</td>\n",
       "    </tr>\n",
       "    <tr>\n",
       "      <th>Test MSE</th>\n",
       "      <td>2.58</td>\n",
       "      <td>3.16</td>\n",
       "    </tr>\n",
       "    <tr>\n",
       "      <th>Train MSE</th>\n",
       "      <td>0.07</td>\n",
       "      <td>1.00</td>\n",
       "    </tr>\n",
       "    <tr>\n",
       "      <th>Validation MSE</th>\n",
       "      <td>0.11</td>\n",
       "      <td>1.28</td>\n",
       "    </tr>\n",
       "  </tbody>\n",
       "</table>\n",
       "</div>"
      ],
      "text/plain": [
       "                Train on A  Train on B\n",
       "Optimal L             0.00        0.50\n",
       "Optimal M             2.00        3.00\n",
       "Test MSE              2.58        3.16\n",
       "Train MSE             0.07        1.00\n",
       "Validation MSE        0.11        1.28"
      ]
     },
     "execution_count": 66,
     "metadata": {},
     "output_type": "execute_result"
    }
   ],
   "source": [
    "pd.DataFrame({'Train on A': a, 'Train on B':b})#.to_latex()"
   ]
  },
  {
   "cell_type": "code",
   "execution_count": null,
   "metadata": {
    "collapsed": false
   },
   "outputs": [],
   "source": [
    "opt_m, opt_l = res.idxmin()"
   ]
  },
  {
   "cell_type": "code",
   "execution_count": null,
   "metadata": {
    "collapsed": false
   },
   "outputs": [],
   "source": [
    "res.min()"
   ]
  },
  {
   "cell_type": "code",
   "execution_count": null,
   "metadata": {
    "collapsed": false
   },
   "outputs": [],
   "source": [
    "w_opt = ridge_weights(AX, AY, M=opt_m, l=opt_l)"
   ]
  },
  {
   "cell_type": "code",
   "execution_count": null,
   "metadata": {
    "collapsed": false
   },
   "outputs": [],
   "source": [
    "a_tr = pd.Series({'test': ridge_loss(BX, BY, w=w_opt, M=2),\n",
    " 'validation': ridge_loss(VX, VY, w=w_opt, M=2),\n",
    " 'train': ridge_loss(AX, AY, w=w_opt, M=2)}).round(2)"
   ]
  },
  {
   "cell_type": "code",
   "execution_count": null,
   "metadata": {
    "collapsed": true
   },
   "outputs": [],
   "source": [
    "from ggplot import *"
   ]
  },
  {
   "cell_type": "code",
   "execution_count": null,
   "metadata": {
    "collapsed": false
   },
   "outputs": [],
   "source": [
    "ridge_loss(AX, AY, l=0, M=5)"
   ]
  },
  {
   "cell_type": "code",
   "execution_count": null,
   "metadata": {
    "collapsed": false
   },
   "outputs": [],
   "source": [
    "ridge_loss(AX, AY, l=100, M=5)"
   ]
  },
  {
   "cell_type": "code",
   "execution_count": null,
   "metadata": {
    "collapsed": false
   },
   "outputs": [],
   "source": [
    "loss_a.stack().sort_values()#.rename('Test MSE')"
   ]
  },
  {
   "cell_type": "code",
   "execution_count": 90,
   "metadata": {
    "collapsed": false
   },
   "outputs": [],
   "source": [
    "pl_data  = pd.DataFrame({'Train MSE': loss_a.stack(), \n",
    "                         'Validation MSE': loss_av.stack(),\n",
    "                        'Test MSE': loss_ab.stack()}).reset_index()"
   ]
  },
  {
   "cell_type": "code",
   "execution_count": 110,
   "metadata": {
    "collapsed": true
   },
   "outputs": [],
   "source": [
    "plb  = pd.DataFrame({'Train MSE': loss_b.stack(), \n",
    "                         'Validation MSE': loss_bv.stack(),\n",
    "                        'Test MSE': loss_ba.stack()}).reset_index()"
   ]
  },
  {
   "cell_type": "code",
   "execution_count": 118,
   "metadata": {
    "collapsed": false
   },
   "outputs": [],
   "source": [
    "plb2 = plb[(plb.L.isin([0, .5, 5])) & (plb.M.isin([1,3]))]"
   ]
  },
  {
   "cell_type": "code",
   "execution_count": 119,
   "metadata": {
    "collapsed": false
   },
   "outputs": [
    {
     "name": "stdout",
     "output_type": "stream",
     "text": [
      "\\begin{tabular}{llrrr}\n",
      "\\toprule\n",
      "  &     &  Train MSE &  Validation MSE &  Test MSE \\\\\n",
      "M & L &            &                 &           \\\\\n",
      "\\midrule\n",
      "1 & 0.0 &       1.44 &            1.60 &      1.82 \\\\\n",
      "  & 0.5 &       1.44 &            1.52 &      1.71 \\\\\n",
      "  & 5.0 &       1.72 &            1.33 &      1.36 \\\\\n",
      "3 & 0.0 &       0.98 &            1.38 &      3.76 \\\\\n",
      "  & 0.5 &       1.00 &            1.28 &      3.16 \\\\\n",
      "  & 5.0 &       1.32 &            1.80 &      2.58 \\\\\n",
      "\\bottomrule\n",
      "\\end{tabular}\n",
      "\n"
     ]
    }
   ],
   "source": [
    "print plb2.set_index(['M', 'L']).round(2)[[ u'Train MSE', u'Validation MSE', u'Test MSE']].to_latex()"
   ]
  },
  {
   "cell_type": "code",
   "execution_count": 121,
   "metadata": {
    "collapsed": false
   },
   "outputs": [],
   "source": [
    "#plb.sort_values('Test MSE')"
   ]
  },
  {
   "cell_type": "code",
   "execution_count": 98,
   "metadata": {
    "collapsed": false
   },
   "outputs": [
    {
     "data": {
      "text/html": [
       "<div>\n",
       "<table border=\"1\" class=\"dataframe\">\n",
       "  <thead>\n",
       "    <tr style=\"text-align: right;\">\n",
       "      <th></th>\n",
       "      <th>M</th>\n",
       "      <th>L</th>\n",
       "      <th>Test MSE</th>\n",
       "      <th>Train MSE</th>\n",
       "      <th>Validation MSE</th>\n",
       "    </tr>\n",
       "  </thead>\n",
       "  <tbody>\n",
       "    <tr>\n",
       "      <th>M</th>\n",
       "      <td>1.000000</td>\n",
       "      <td>0.000000</td>\n",
       "      <td>0.117767</td>\n",
       "      <td>-0.219339</td>\n",
       "      <td>-0.114805</td>\n",
       "    </tr>\n",
       "    <tr>\n",
       "      <th>L</th>\n",
       "      <td>0.000000</td>\n",
       "      <td>1.000000</td>\n",
       "      <td>0.547087</td>\n",
       "      <td>0.665889</td>\n",
       "      <td>0.654658</td>\n",
       "    </tr>\n",
       "    <tr>\n",
       "      <th>Test MSE</th>\n",
       "      <td>0.117767</td>\n",
       "      <td>0.547087</td>\n",
       "      <td>1.000000</td>\n",
       "      <td>0.792975</td>\n",
       "      <td>0.887624</td>\n",
       "    </tr>\n",
       "    <tr>\n",
       "      <th>Train MSE</th>\n",
       "      <td>-0.219339</td>\n",
       "      <td>0.665889</td>\n",
       "      <td>0.792975</td>\n",
       "      <td>1.000000</td>\n",
       "      <td>0.982422</td>\n",
       "    </tr>\n",
       "    <tr>\n",
       "      <th>Validation MSE</th>\n",
       "      <td>-0.114805</td>\n",
       "      <td>0.654658</td>\n",
       "      <td>0.887624</td>\n",
       "      <td>0.982422</td>\n",
       "      <td>1.000000</td>\n",
       "    </tr>\n",
       "  </tbody>\n",
       "</table>\n",
       "</div>"
      ],
      "text/plain": [
       "                       M         L  Test MSE  Train MSE  Validation MSE\n",
       "M               1.000000  0.000000  0.117767  -0.219339       -0.114805\n",
       "L               0.000000  1.000000  0.547087   0.665889        0.654658\n",
       "Test MSE        0.117767  0.547087  1.000000   0.792975        0.887624\n",
       "Train MSE      -0.219339  0.665889  0.792975   1.000000        0.982422\n",
       "Validation MSE -0.114805  0.654658  0.887624   0.982422        1.000000"
      ]
     },
     "execution_count": 98,
     "metadata": {},
     "output_type": "execute_result"
    }
   ],
   "source": [
    "pl_data.corr()"
   ]
  },
  {
   "cell_type": "code",
   "execution_count": 94,
   "metadata": {
    "collapsed": false
   },
   "outputs": [
    {
     "data": {
      "text/html": [
       "<div>\n",
       "<table border=\"1\" class=\"dataframe\">\n",
       "  <thead>\n",
       "    <tr style=\"text-align: right;\">\n",
       "      <th></th>\n",
       "      <th>M</th>\n",
       "      <th>L</th>\n",
       "      <th>Test MSE</th>\n",
       "      <th>Train MSE</th>\n",
       "      <th>Validation MSE</th>\n",
       "    </tr>\n",
       "  </thead>\n",
       "  <tbody>\n",
       "    <tr>\n",
       "      <th>0</th>\n",
       "      <td>1</td>\n",
       "      <td>0.0</td>\n",
       "      <td>2.510</td>\n",
       "      <td>0.076</td>\n",
       "      <td>0.132</td>\n",
       "    </tr>\n",
       "    <tr>\n",
       "      <th>1</th>\n",
       "      <td>1</td>\n",
       "      <td>0.1</td>\n",
       "      <td>2.513</td>\n",
       "      <td>0.076</td>\n",
       "      <td>0.134</td>\n",
       "    </tr>\n",
       "    <tr>\n",
       "      <th>2</th>\n",
       "      <td>1</td>\n",
       "      <td>0.5</td>\n",
       "      <td>2.527</td>\n",
       "      <td>0.078</td>\n",
       "      <td>0.142</td>\n",
       "    </tr>\n",
       "    <tr>\n",
       "      <th>3</th>\n",
       "      <td>1</td>\n",
       "      <td>1.0</td>\n",
       "      <td>2.546</td>\n",
       "      <td>0.082</td>\n",
       "      <td>0.155</td>\n",
       "    </tr>\n",
       "    <tr>\n",
       "      <th>4</th>\n",
       "      <td>1</td>\n",
       "      <td>3.0</td>\n",
       "      <td>2.623</td>\n",
       "      <td>0.120</td>\n",
       "      <td>0.225</td>\n",
       "    </tr>\n",
       "    <tr>\n",
       "      <th>5</th>\n",
       "      <td>1</td>\n",
       "      <td>5.0</td>\n",
       "      <td>2.700</td>\n",
       "      <td>0.175</td>\n",
       "      <td>0.308</td>\n",
       "    </tr>\n",
       "    <tr>\n",
       "      <th>6</th>\n",
       "      <td>1</td>\n",
       "      <td>10.0</td>\n",
       "      <td>2.866</td>\n",
       "      <td>0.333</td>\n",
       "      <td>0.521</td>\n",
       "    </tr>\n",
       "    <tr>\n",
       "      <th>7</th>\n",
       "      <td>1</td>\n",
       "      <td>12.0</td>\n",
       "      <td>2.922</td>\n",
       "      <td>0.397</td>\n",
       "      <td>0.603</td>\n",
       "    </tr>\n",
       "    <tr>\n",
       "      <th>8</th>\n",
       "      <td>1</td>\n",
       "      <td>100.0</td>\n",
       "      <td>3.736</td>\n",
       "      <td>1.825</td>\n",
       "      <td>2.191</td>\n",
       "    </tr>\n",
       "    <tr>\n",
       "      <th>9</th>\n",
       "      <td>1</td>\n",
       "      <td>200.0</td>\n",
       "      <td>3.960</td>\n",
       "      <td>2.318</td>\n",
       "      <td>2.687</td>\n",
       "    </tr>\n",
       "    <tr>\n",
       "      <th>10</th>\n",
       "      <td>1</td>\n",
       "      <td>1000.0</td>\n",
       "      <td>4.234</td>\n",
       "      <td>2.927</td>\n",
       "      <td>3.284</td>\n",
       "    </tr>\n",
       "    <tr>\n",
       "      <th>11</th>\n",
       "      <td>1</td>\n",
       "      <td>10000.0</td>\n",
       "      <td>4.314</td>\n",
       "      <td>3.107</td>\n",
       "      <td>3.457</td>\n",
       "    </tr>\n",
       "    <tr>\n",
       "      <th>12</th>\n",
       "      <td>2</td>\n",
       "      <td>0.0</td>\n",
       "      <td>2.575</td>\n",
       "      <td>0.067</td>\n",
       "      <td>0.107</td>\n",
       "    </tr>\n",
       "    <tr>\n",
       "      <th>13</th>\n",
       "      <td>2</td>\n",
       "      <td>0.1</td>\n",
       "      <td>2.573</td>\n",
       "      <td>0.067</td>\n",
       "      <td>0.110</td>\n",
       "    </tr>\n",
       "    <tr>\n",
       "      <th>14</th>\n",
       "      <td>2</td>\n",
       "      <td>0.5</td>\n",
       "      <td>2.566</td>\n",
       "      <td>0.071</td>\n",
       "      <td>0.126</td>\n",
       "    </tr>\n",
       "    <tr>\n",
       "      <th>15</th>\n",
       "      <td>2</td>\n",
       "      <td>1.0</td>\n",
       "      <td>2.564</td>\n",
       "      <td>0.078</td>\n",
       "      <td>0.147</td>\n",
       "    </tr>\n",
       "    <tr>\n",
       "      <th>16</th>\n",
       "      <td>2</td>\n",
       "      <td>3.0</td>\n",
       "      <td>2.584</td>\n",
       "      <td>0.128</td>\n",
       "      <td>0.239</td>\n",
       "    </tr>\n",
       "    <tr>\n",
       "      <th>17</th>\n",
       "      <td>2</td>\n",
       "      <td>5.0</td>\n",
       "      <td>2.618</td>\n",
       "      <td>0.185</td>\n",
       "      <td>0.325</td>\n",
       "    </tr>\n",
       "    <tr>\n",
       "      <th>18</th>\n",
       "      <td>2</td>\n",
       "      <td>10.0</td>\n",
       "      <td>2.707</td>\n",
       "      <td>0.328</td>\n",
       "      <td>0.518</td>\n",
       "    </tr>\n",
       "    <tr>\n",
       "      <th>19</th>\n",
       "      <td>2</td>\n",
       "      <td>12.0</td>\n",
       "      <td>2.742</td>\n",
       "      <td>0.383</td>\n",
       "      <td>0.588</td>\n",
       "    </tr>\n",
       "    <tr>\n",
       "      <th>20</th>\n",
       "      <td>2</td>\n",
       "      <td>100.0</td>\n",
       "      <td>3.589</td>\n",
       "      <td>1.796</td>\n",
       "      <td>2.137</td>\n",
       "    </tr>\n",
       "    <tr>\n",
       "      <th>21</th>\n",
       "      <td>2</td>\n",
       "      <td>200.0</td>\n",
       "      <td>3.886</td>\n",
       "      <td>2.307</td>\n",
       "      <td>2.660</td>\n",
       "    </tr>\n",
       "    <tr>\n",
       "      <th>22</th>\n",
       "      <td>2</td>\n",
       "      <td>1000.0</td>\n",
       "      <td>4.225</td>\n",
       "      <td>2.927</td>\n",
       "      <td>3.282</td>\n",
       "    </tr>\n",
       "    <tr>\n",
       "      <th>23</th>\n",
       "      <td>2</td>\n",
       "      <td>10000.0</td>\n",
       "      <td>4.314</td>\n",
       "      <td>3.107</td>\n",
       "      <td>3.457</td>\n",
       "    </tr>\n",
       "    <tr>\n",
       "      <th>24</th>\n",
       "      <td>3</td>\n",
       "      <td>0.0</td>\n",
       "      <td>2.576</td>\n",
       "      <td>0.067</td>\n",
       "      <td>0.108</td>\n",
       "    </tr>\n",
       "    <tr>\n",
       "      <th>25</th>\n",
       "      <td>3</td>\n",
       "      <td>0.1</td>\n",
       "      <td>2.579</td>\n",
       "      <td>0.068</td>\n",
       "      <td>0.116</td>\n",
       "    </tr>\n",
       "    <tr>\n",
       "      <th>26</th>\n",
       "      <td>3</td>\n",
       "      <td>0.5</td>\n",
       "      <td>2.599</td>\n",
       "      <td>0.073</td>\n",
       "      <td>0.151</td>\n",
       "    </tr>\n",
       "    <tr>\n",
       "      <th>27</th>\n",
       "      <td>3</td>\n",
       "      <td>1.0</td>\n",
       "      <td>2.634</td>\n",
       "      <td>0.086</td>\n",
       "      <td>0.198</td>\n",
       "    </tr>\n",
       "    <tr>\n",
       "      <th>28</th>\n",
       "      <td>3</td>\n",
       "      <td>3.0</td>\n",
       "      <td>2.804</td>\n",
       "      <td>0.161</td>\n",
       "      <td>0.374</td>\n",
       "    </tr>\n",
       "    <tr>\n",
       "      <th>29</th>\n",
       "      <td>3</td>\n",
       "      <td>5.0</td>\n",
       "      <td>2.957</td>\n",
       "      <td>0.231</td>\n",
       "      <td>0.512</td>\n",
       "    </tr>\n",
       "    <tr>\n",
       "      <th>30</th>\n",
       "      <td>3</td>\n",
       "      <td>10.0</td>\n",
       "      <td>3.227</td>\n",
       "      <td>0.355</td>\n",
       "      <td>0.735</td>\n",
       "    </tr>\n",
       "    <tr>\n",
       "      <th>31</th>\n",
       "      <td>3</td>\n",
       "      <td>12.0</td>\n",
       "      <td>3.304</td>\n",
       "      <td>0.389</td>\n",
       "      <td>0.795</td>\n",
       "    </tr>\n",
       "    <tr>\n",
       "      <th>32</th>\n",
       "      <td>3</td>\n",
       "      <td>100.0</td>\n",
       "      <td>4.149</td>\n",
       "      <td>0.747</td>\n",
       "      <td>1.343</td>\n",
       "    </tr>\n",
       "    <tr>\n",
       "      <th>33</th>\n",
       "      <td>3</td>\n",
       "      <td>200.0</td>\n",
       "      <td>4.398</td>\n",
       "      <td>0.908</td>\n",
       "      <td>1.535</td>\n",
       "    </tr>\n",
       "    <tr>\n",
       "      <th>34</th>\n",
       "      <td>3</td>\n",
       "      <td>1000.0</td>\n",
       "      <td>4.610</td>\n",
       "      <td>1.491</td>\n",
       "      <td>2.161</td>\n",
       "    </tr>\n",
       "    <tr>\n",
       "      <th>35</th>\n",
       "      <td>3</td>\n",
       "      <td>10000.0</td>\n",
       "      <td>4.371</td>\n",
       "      <td>2.655</td>\n",
       "      <td>3.136</td>\n",
       "    </tr>\n",
       "    <tr>\n",
       "      <th>36</th>\n",
       "      <td>4</td>\n",
       "      <td>0.0</td>\n",
       "      <td>2.432</td>\n",
       "      <td>0.046</td>\n",
       "      <td>0.163</td>\n",
       "    </tr>\n",
       "    <tr>\n",
       "      <th>37</th>\n",
       "      <td>4</td>\n",
       "      <td>0.1</td>\n",
       "      <td>2.438</td>\n",
       "      <td>0.047</td>\n",
       "      <td>0.167</td>\n",
       "    </tr>\n",
       "    <tr>\n",
       "      <th>38</th>\n",
       "      <td>4</td>\n",
       "      <td>0.5</td>\n",
       "      <td>2.462</td>\n",
       "      <td>0.050</td>\n",
       "      <td>0.189</td>\n",
       "    </tr>\n",
       "    <tr>\n",
       "      <th>39</th>\n",
       "      <td>4</td>\n",
       "      <td>1.0</td>\n",
       "      <td>2.496</td>\n",
       "      <td>0.059</td>\n",
       "      <td>0.221</td>\n",
       "    </tr>\n",
       "    <tr>\n",
       "      <th>40</th>\n",
       "      <td>4</td>\n",
       "      <td>3.0</td>\n",
       "      <td>2.656</td>\n",
       "      <td>0.117</td>\n",
       "      <td>0.355</td>\n",
       "    </tr>\n",
       "    <tr>\n",
       "      <th>41</th>\n",
       "      <td>4</td>\n",
       "      <td>5.0</td>\n",
       "      <td>2.810</td>\n",
       "      <td>0.180</td>\n",
       "      <td>0.472</td>\n",
       "    </tr>\n",
       "    <tr>\n",
       "      <th>42</th>\n",
       "      <td>4</td>\n",
       "      <td>10.0</td>\n",
       "      <td>3.114</td>\n",
       "      <td>0.308</td>\n",
       "      <td>0.686</td>\n",
       "    </tr>\n",
       "    <tr>\n",
       "      <th>43</th>\n",
       "      <td>4</td>\n",
       "      <td>12.0</td>\n",
       "      <td>3.207</td>\n",
       "      <td>0.347</td>\n",
       "      <td>0.749</td>\n",
       "    </tr>\n",
       "    <tr>\n",
       "      <th>44</th>\n",
       "      <td>4</td>\n",
       "      <td>100.0</td>\n",
       "      <td>4.133</td>\n",
       "      <td>0.764</td>\n",
       "      <td>1.378</td>\n",
       "    </tr>\n",
       "    <tr>\n",
       "      <th>45</th>\n",
       "      <td>4</td>\n",
       "      <td>200.0</td>\n",
       "      <td>4.266</td>\n",
       "      <td>0.867</td>\n",
       "      <td>1.522</td>\n",
       "    </tr>\n",
       "    <tr>\n",
       "      <th>46</th>\n",
       "      <td>4</td>\n",
       "      <td>1000.0</td>\n",
       "      <td>4.412</td>\n",
       "      <td>1.395</td>\n",
       "      <td>2.074</td>\n",
       "    </tr>\n",
       "    <tr>\n",
       "      <th>47</th>\n",
       "      <td>4</td>\n",
       "      <td>10000.0</td>\n",
       "      <td>4.471</td>\n",
       "      <td>2.650</td>\n",
       "      <td>3.161</td>\n",
       "    </tr>\n",
       "    <tr>\n",
       "      <th>48</th>\n",
       "      <td>5</td>\n",
       "      <td>0.0</td>\n",
       "      <td>2.323</td>\n",
       "      <td>0.044</td>\n",
       "      <td>0.188</td>\n",
       "    </tr>\n",
       "    <tr>\n",
       "      <th>49</th>\n",
       "      <td>5</td>\n",
       "      <td>0.1</td>\n",
       "      <td>2.378</td>\n",
       "      <td>0.045</td>\n",
       "      <td>0.180</td>\n",
       "    </tr>\n",
       "    <tr>\n",
       "      <th>50</th>\n",
       "      <td>5</td>\n",
       "      <td>0.5</td>\n",
       "      <td>2.533</td>\n",
       "      <td>0.053</td>\n",
       "      <td>0.173</td>\n",
       "    </tr>\n",
       "    <tr>\n",
       "      <th>51</th>\n",
       "      <td>5</td>\n",
       "      <td>1.0</td>\n",
       "      <td>2.648</td>\n",
       "      <td>0.065</td>\n",
       "      <td>0.181</td>\n",
       "    </tr>\n",
       "    <tr>\n",
       "      <th>52</th>\n",
       "      <td>5</td>\n",
       "      <td>3.0</td>\n",
       "      <td>2.861</td>\n",
       "      <td>0.110</td>\n",
       "      <td>0.251</td>\n",
       "    </tr>\n",
       "    <tr>\n",
       "      <th>53</th>\n",
       "      <td>5</td>\n",
       "      <td>5.0</td>\n",
       "      <td>2.976</td>\n",
       "      <td>0.154</td>\n",
       "      <td>0.329</td>\n",
       "    </tr>\n",
       "    <tr>\n",
       "      <th>54</th>\n",
       "      <td>5</td>\n",
       "      <td>10.0</td>\n",
       "      <td>3.187</td>\n",
       "      <td>0.259</td>\n",
       "      <td>0.518</td>\n",
       "    </tr>\n",
       "    <tr>\n",
       "      <th>55</th>\n",
       "      <td>5</td>\n",
       "      <td>12.0</td>\n",
       "      <td>3.257</td>\n",
       "      <td>0.297</td>\n",
       "      <td>0.586</td>\n",
       "    </tr>\n",
       "    <tr>\n",
       "      <th>56</th>\n",
       "      <td>5</td>\n",
       "      <td>100.0</td>\n",
       "      <td>4.194</td>\n",
       "      <td>0.829</td>\n",
       "      <td>1.564</td>\n",
       "    </tr>\n",
       "    <tr>\n",
       "      <th>57</th>\n",
       "      <td>5</td>\n",
       "      <td>200.0</td>\n",
       "      <td>4.382</td>\n",
       "      <td>0.936</td>\n",
       "      <td>1.768</td>\n",
       "    </tr>\n",
       "    <tr>\n",
       "      <th>58</th>\n",
       "      <td>5</td>\n",
       "      <td>1000.0</td>\n",
       "      <td>4.641</td>\n",
       "      <td>1.058</td>\n",
       "      <td>1.979</td>\n",
       "    </tr>\n",
       "    <tr>\n",
       "      <th>59</th>\n",
       "      <td>5</td>\n",
       "      <td>10000.0</td>\n",
       "      <td>4.995</td>\n",
       "      <td>1.390</td>\n",
       "      <td>2.253</td>\n",
       "    </tr>\n",
       "  </tbody>\n",
       "</table>\n",
       "</div>"
      ],
      "text/plain": [
       "    M        L  Test MSE  Train MSE  Validation MSE\n",
       "0   1      0.0     2.510      0.076           0.132\n",
       "1   1      0.1     2.513      0.076           0.134\n",
       "2   1      0.5     2.527      0.078           0.142\n",
       "3   1      1.0     2.546      0.082           0.155\n",
       "4   1      3.0     2.623      0.120           0.225\n",
       "5   1      5.0     2.700      0.175           0.308\n",
       "6   1     10.0     2.866      0.333           0.521\n",
       "7   1     12.0     2.922      0.397           0.603\n",
       "8   1    100.0     3.736      1.825           2.191\n",
       "9   1    200.0     3.960      2.318           2.687\n",
       "10  1   1000.0     4.234      2.927           3.284\n",
       "11  1  10000.0     4.314      3.107           3.457\n",
       "12  2      0.0     2.575      0.067           0.107\n",
       "13  2      0.1     2.573      0.067           0.110\n",
       "14  2      0.5     2.566      0.071           0.126\n",
       "15  2      1.0     2.564      0.078           0.147\n",
       "16  2      3.0     2.584      0.128           0.239\n",
       "17  2      5.0     2.618      0.185           0.325\n",
       "18  2     10.0     2.707      0.328           0.518\n",
       "19  2     12.0     2.742      0.383           0.588\n",
       "20  2    100.0     3.589      1.796           2.137\n",
       "21  2    200.0     3.886      2.307           2.660\n",
       "22  2   1000.0     4.225      2.927           3.282\n",
       "23  2  10000.0     4.314      3.107           3.457\n",
       "24  3      0.0     2.576      0.067           0.108\n",
       "25  3      0.1     2.579      0.068           0.116\n",
       "26  3      0.5     2.599      0.073           0.151\n",
       "27  3      1.0     2.634      0.086           0.198\n",
       "28  3      3.0     2.804      0.161           0.374\n",
       "29  3      5.0     2.957      0.231           0.512\n",
       "30  3     10.0     3.227      0.355           0.735\n",
       "31  3     12.0     3.304      0.389           0.795\n",
       "32  3    100.0     4.149      0.747           1.343\n",
       "33  3    200.0     4.398      0.908           1.535\n",
       "34  3   1000.0     4.610      1.491           2.161\n",
       "35  3  10000.0     4.371      2.655           3.136\n",
       "36  4      0.0     2.432      0.046           0.163\n",
       "37  4      0.1     2.438      0.047           0.167\n",
       "38  4      0.5     2.462      0.050           0.189\n",
       "39  4      1.0     2.496      0.059           0.221\n",
       "40  4      3.0     2.656      0.117           0.355\n",
       "41  4      5.0     2.810      0.180           0.472\n",
       "42  4     10.0     3.114      0.308           0.686\n",
       "43  4     12.0     3.207      0.347           0.749\n",
       "44  4    100.0     4.133      0.764           1.378\n",
       "45  4    200.0     4.266      0.867           1.522\n",
       "46  4   1000.0     4.412      1.395           2.074\n",
       "47  4  10000.0     4.471      2.650           3.161\n",
       "48  5      0.0     2.323      0.044           0.188\n",
       "49  5      0.1     2.378      0.045           0.180\n",
       "50  5      0.5     2.533      0.053           0.173\n",
       "51  5      1.0     2.648      0.065           0.181\n",
       "52  5      3.0     2.861      0.110           0.251\n",
       "53  5      5.0     2.976      0.154           0.329\n",
       "54  5     10.0     3.187      0.259           0.518\n",
       "55  5     12.0     3.257      0.297           0.586\n",
       "56  5    100.0     4.194      0.829           1.564\n",
       "57  5    200.0     4.382      0.936           1.768\n",
       "58  5   1000.0     4.641      1.058           1.979\n",
       "59  5  10000.0     4.995      1.390           2.253"
      ]
     },
     "execution_count": 94,
     "metadata": {},
     "output_type": "execute_result"
    }
   ],
   "source": [
    "pl_data[pl_data.]"
   ]
  },
  {
   "cell_type": "code",
   "execution_count": 86,
   "metadata": {
    "collapsed": false
   },
   "outputs": [],
   "source": [
    "tab =  pl_data.set_index(\"M\").sort_index().dropna().round(2)"
   ]
  },
  {
   "cell_type": "code",
   "execution_count": 88,
   "metadata": {
    "collapsed": false
   },
   "outputs": [
    {
     "data": {
      "text/html": [
       "<div>\n",
       "<table border=\"1\" class=\"dataframe\">\n",
       "  <thead>\n",
       "    <tr style=\"text-align: right;\">\n",
       "      <th></th>\n",
       "      <th>L</th>\n",
       "      <th>Test MSE</th>\n",
       "      <th>Train MSE</th>\n",
       "      <th>Validation MSE</th>\n",
       "    </tr>\n",
       "    <tr>\n",
       "      <th>M</th>\n",
       "      <th></th>\n",
       "      <th></th>\n",
       "      <th></th>\n",
       "      <th></th>\n",
       "    </tr>\n",
       "  </thead>\n",
       "  <tbody>\n",
       "    <tr>\n",
       "      <th>2</th>\n",
       "      <td>0.0</td>\n",
       "      <td>2.58</td>\n",
       "      <td>0.07</td>\n",
       "      <td>0.11</td>\n",
       "    </tr>\n",
       "    <tr>\n",
       "      <th>3</th>\n",
       "      <td>0.0</td>\n",
       "      <td>2.58</td>\n",
       "      <td>0.07</td>\n",
       "      <td>0.11</td>\n",
       "    </tr>\n",
       "    <tr>\n",
       "      <th>1</th>\n",
       "      <td>0.0</td>\n",
       "      <td>2.51</td>\n",
       "      <td>0.08</td>\n",
       "      <td>0.13</td>\n",
       "    </tr>\n",
       "    <tr>\n",
       "      <th>4</th>\n",
       "      <td>0.0</td>\n",
       "      <td>2.43</td>\n",
       "      <td>0.05</td>\n",
       "      <td>0.16</td>\n",
       "    </tr>\n",
       "    <tr>\n",
       "      <th>5</th>\n",
       "      <td>0.0</td>\n",
       "      <td>2.32</td>\n",
       "      <td>0.04</td>\n",
       "      <td>0.19</td>\n",
       "    </tr>\n",
       "    <tr>\n",
       "      <th>1</th>\n",
       "      <td>5.0</td>\n",
       "      <td>2.70</td>\n",
       "      <td>0.18</td>\n",
       "      <td>0.31</td>\n",
       "    </tr>\n",
       "    <tr>\n",
       "      <th>2</th>\n",
       "      <td>5.0</td>\n",
       "      <td>2.62</td>\n",
       "      <td>0.18</td>\n",
       "      <td>0.32</td>\n",
       "    </tr>\n",
       "    <tr>\n",
       "      <th>5</th>\n",
       "      <td>5.0</td>\n",
       "      <td>2.98</td>\n",
       "      <td>0.15</td>\n",
       "      <td>0.33</td>\n",
       "    </tr>\n",
       "    <tr>\n",
       "      <th>4</th>\n",
       "      <td>5.0</td>\n",
       "      <td>2.81</td>\n",
       "      <td>0.18</td>\n",
       "      <td>0.47</td>\n",
       "    </tr>\n",
       "    <tr>\n",
       "      <th>3</th>\n",
       "      <td>5.0</td>\n",
       "      <td>2.96</td>\n",
       "      <td>0.23</td>\n",
       "      <td>0.51</td>\n",
       "    </tr>\n",
       "    <tr>\n",
       "      <th>4</th>\n",
       "      <td>200.0</td>\n",
       "      <td>4.27</td>\n",
       "      <td>0.87</td>\n",
       "      <td>1.52</td>\n",
       "    </tr>\n",
       "    <tr>\n",
       "      <th>3</th>\n",
       "      <td>200.0</td>\n",
       "      <td>4.40</td>\n",
       "      <td>0.91</td>\n",
       "      <td>1.54</td>\n",
       "    </tr>\n",
       "    <tr>\n",
       "      <th>5</th>\n",
       "      <td>200.0</td>\n",
       "      <td>4.38</td>\n",
       "      <td>0.94</td>\n",
       "      <td>1.77</td>\n",
       "    </tr>\n",
       "    <tr>\n",
       "      <th>5</th>\n",
       "      <td>1000.0</td>\n",
       "      <td>4.64</td>\n",
       "      <td>1.06</td>\n",
       "      <td>1.98</td>\n",
       "    </tr>\n",
       "    <tr>\n",
       "      <th>4</th>\n",
       "      <td>1000.0</td>\n",
       "      <td>4.41</td>\n",
       "      <td>1.40</td>\n",
       "      <td>2.07</td>\n",
       "    </tr>\n",
       "    <tr>\n",
       "      <th>3</th>\n",
       "      <td>1000.0</td>\n",
       "      <td>4.61</td>\n",
       "      <td>1.49</td>\n",
       "      <td>2.16</td>\n",
       "    </tr>\n",
       "    <tr>\n",
       "      <th>2</th>\n",
       "      <td>200.0</td>\n",
       "      <td>3.89</td>\n",
       "      <td>2.31</td>\n",
       "      <td>2.66</td>\n",
       "    </tr>\n",
       "    <tr>\n",
       "      <th>1</th>\n",
       "      <td>200.0</td>\n",
       "      <td>3.96</td>\n",
       "      <td>2.32</td>\n",
       "      <td>2.69</td>\n",
       "    </tr>\n",
       "    <tr>\n",
       "      <th>2</th>\n",
       "      <td>1000.0</td>\n",
       "      <td>4.22</td>\n",
       "      <td>2.93</td>\n",
       "      <td>3.28</td>\n",
       "    </tr>\n",
       "    <tr>\n",
       "      <th>1</th>\n",
       "      <td>1000.0</td>\n",
       "      <td>4.23</td>\n",
       "      <td>2.93</td>\n",
       "      <td>3.28</td>\n",
       "    </tr>\n",
       "  </tbody>\n",
       "</table>\n",
       "</div>"
      ],
      "text/plain": [
       "        L  Test MSE  Train MSE  Validation MSE\n",
       "M                                             \n",
       "2     0.0      2.58       0.07            0.11\n",
       "3     0.0      2.58       0.07            0.11\n",
       "1     0.0      2.51       0.08            0.13\n",
       "4     0.0      2.43       0.05            0.16\n",
       "5     0.0      2.32       0.04            0.19\n",
       "1     5.0      2.70       0.18            0.31\n",
       "2     5.0      2.62       0.18            0.32\n",
       "5     5.0      2.98       0.15            0.33\n",
       "4     5.0      2.81       0.18            0.47\n",
       "3     5.0      2.96       0.23            0.51\n",
       "4   200.0      4.27       0.87            1.52\n",
       "3   200.0      4.40       0.91            1.54\n",
       "5   200.0      4.38       0.94            1.77\n",
       "5  1000.0      4.64       1.06            1.98\n",
       "4  1000.0      4.41       1.40            2.07\n",
       "3  1000.0      4.61       1.49            2.16\n",
       "2   200.0      3.89       2.31            2.66\n",
       "1   200.0      3.96       2.32            2.69\n",
       "2  1000.0      4.22       2.93            3.28\n",
       "1  1000.0      4.23       2.93            3.28"
      ]
     },
     "execution_count": 88,
     "metadata": {},
     "output_type": "execute_result"
    }
   ],
   "source": [
    "tab.sort_values('Validation MSE')"
   ]
  },
  {
   "cell_type": "code",
   "execution_count": null,
   "metadata": {
    "collapsed": false,
    "scrolled": false
   },
   "outputs": [],
   "source": [
    "(\n",
    "    ggplot(aes(x='M', y='Validation', colour='L'),\n",
    "           data=pl_data.assign(L=lambda x: x.L.astype(str)))+\n",
    "    geom_line() + \n",
    "    ylab('MSE') + \n",
    "    xlab('M (polynomial order)') +\n",
    "    ggtitle('Validation MSE vs. M')\n",
    "    )"
   ]
  },
  {
   "cell_type": "code",
   "execution_count": null,
   "metadata": {
    "collapsed": false
   },
   "outputs": [],
   "source": [
    "p"
   ]
  },
  {
   "cell_type": "code",
   "execution_count": null,
   "metadata": {
    "collapsed": false
   },
   "outputs": [],
   "source": [
    "loss_b.stack().to_frame(name='MSE').reset_index().corr().round(2)"
   ]
  },
  {
   "cell_type": "code",
   "execution_count": null,
   "metadata": {
    "collapsed": false
   },
   "outputs": [],
   "source": [
    "loss_av#.stack().idxmin()"
   ]
  },
  {
   "cell_type": "code",
   "execution_count": null,
   "metadata": {
    "collapsed": false
   },
   "outputs": [],
   "source": [
    "loss_bv.stack().idxmin()"
   ]
  },
  {
   "cell_type": "code",
   "execution_count": null,
   "metadata": {
    "collapsed": false
   },
   "outputs": [],
   "source": [
    "loss_av.stack().max()"
   ]
  },
  {
   "cell_type": "code",
   "execution_count": null,
   "metadata": {
    "collapsed": false
   },
   "outputs": [],
   "source": [
    "#loss_bv.stack().sort_values()"
   ]
  },
  {
   "cell_type": "code",
   "execution_count": null,
   "metadata": {
    "collapsed": false
   },
   "outputs": [],
   "source": [
    "#sns.heatmap(np.clip(loss_bv, 0, loss_av.stack().max()))"
   ]
  },
  {
   "cell_type": "code",
   "execution_count": null,
   "metadata": {
    "collapsed": false
   },
   "outputs": [],
   "source": [
    "loss_av.stack().sort_values()#.idxmin()"
   ]
  },
  {
   "cell_type": "code",
   "execution_count": null,
   "metadata": {
    "collapsed": false
   },
   "outputs": [],
   "source": [
    "ax = sns.heatmap(loss_av.round(2), xticklabels=2)\n",
    "ax.set_title('Validation MSE from training on Dataset A')"
   ]
  },
  {
   "cell_type": "code",
   "execution_count": null,
   "metadata": {
    "collapsed": false
   },
   "outputs": [],
   "source": [
    "ax = sns.heatmap(loss_av.round(2), xticklabels=2)\n",
    "ax.set_title('Validation MSE from training on Dataset A')"
   ]
  },
  {
   "cell_type": "code",
   "execution_count": null,
   "metadata": {
    "collapsed": false
   },
   "outputs": [],
   "source": [
    "ax = sns.heatmap(np.clip(loss_bv, 0, loss_av.stack().max()),\n",
    "                 xticklabels=2)\n",
    "ax.set_title('Validation MSE from training on Dataset B')"
   ]
  },
  {
   "cell_type": "code",
   "execution_count": null,
   "metadata": {
    "collapsed": true
   },
   "outputs": [],
   "source": [
    "#Ridge()"
   ]
  },
  {
   "cell_type": "code",
   "execution_count": null,
   "metadata": {
    "collapsed": false
   },
   "outputs": [],
   "source": [
    "sns.heatmap(np.clip(loss_b, 0, loss_av.stack().max()))"
   ]
  },
  {
   "cell_type": "code",
   "execution_count": null,
   "metadata": {
    "collapsed": true
   },
   "outputs": [],
   "source": []
  },
  {
   "cell_type": "markdown",
   "metadata": {},
   "source": [
    "loss_b.stack().sort_values()"
   ]
  },
  {
   "cell_type": "code",
   "execution_count": null,
   "metadata": {
    "collapsed": false
   },
   "outputs": [],
   "source": [
    "loss_b.median().plot()"
   ]
  },
  {
   "cell_type": "code",
   "execution_count": null,
   "metadata": {
    "collapsed": false
   },
   "outputs": [],
   "source": [
    "loss_b.median(1).plot()"
   ]
  },
  {
   "cell_type": "code",
   "execution_count": null,
   "metadata": {
    "collapsed": false
   },
   "outputs": [],
   "source": [
    "loss_b.mean().plot()"
   ]
  },
  {
   "cell_type": "code",
   "execution_count": null,
   "metadata": {
    "collapsed": false
   },
   "outputs": [],
   "source": [
    "loss_b.mean(1).plot()"
   ]
  },
  {
   "cell_type": "code",
   "execution_count": null,
   "metadata": {
    "collapsed": false
   },
   "outputs": [],
   "source": [
    "pd.DataFrame({'x': np.squeeze(AX), 'y': np.squeeze(AY)}).plot.scatter(x='x', y='y')"
   ]
  },
  {
   "cell_type": "code",
   "execution_count": null,
   "metadata": {
    "collapsed": false
   },
   "outputs": [],
   "source": [
    "pd.DataFrame({'x': np.squeeze(BX), 'y': np.squeeze(BY)}).plot.scatter(x='x', y='y')"
   ]
  },
  {
   "cell_type": "code",
   "execution_count": null,
   "metadata": {
    "collapsed": true
   },
   "outputs": [],
   "source": []
  }
 ],
 "metadata": {
  "kernelspec": {
   "display_name": "Python 2",
   "language": "python",
   "name": "python2"
  },
  "language_info": {
   "codemirror_mode": {
    "name": "ipython",
    "version": 2
   },
   "file_extension": ".py",
   "mimetype": "text/x-python",
   "name": "python",
   "nbconvert_exporter": "python",
   "pygments_lexer": "ipython2",
   "version": "2.7.10"
  }
 },
 "nbformat": 4,
 "nbformat_minor": 1
}
